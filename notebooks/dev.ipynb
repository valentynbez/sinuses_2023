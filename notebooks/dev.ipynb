{
 "cells": [
  {
   "cell_type": "code",
   "execution_count": 11,
   "metadata": {},
   "outputs": [],
   "source": [
    "from pysam import AlignmentFile\n",
    "from glob import glob\n",
    "from tqdm import tqdm"
   ]
  },
  {
   "cell_type": "markdown",
   "metadata": {},
   "source": [
    "# Human genome alignment sanity check\n",
    "- Reads were aligned to GRCh38 (human reference genome) using BWA-MEM\n",
    "- After alignment, reads that mapped to human genome were removed\n",
    "- Small percentage of microbial genes was left \n",
    "- Recalculation is done for each file "
   ]
  },
  {
   "cell_type": "code",
   "execution_count": 16,
   "metadata": {},
   "outputs": [],
   "source": [
    "def calculate_reads(bam):\n",
    "    total_reads = 0\n",
    "    unmapped_reads = 0\n",
    "    with AlignmentFile(bam, \"rb\") as f:\n",
    "        for read in f:\n",
    "            total_reads += 1\n",
    "            if read.is_unmapped:\n",
    "                unmapped_reads += 1\n",
    "    return total_reads, unmapped_reads"
   ]
  },
  {
   "cell_type": "code",
   "execution_count": 17,
   "metadata": {},
   "outputs": [],
   "source": [
    "aligned_files = glob(\"/nfs/cds-peta/exports/biol_micro_cds_gr_sunagawa/scratch/vbezshapkin/sinuses_2023/data/metagenomics/processed/host_removed/*.bam\")"
   ]
  },
  {
   "cell_type": "code",
   "execution_count": 18,
   "metadata": {},
   "outputs": [
    {
     "name": "stdout",
     "output_type": "stream",
     "text": [
      "<File>: <non-human reads>/<total reads>\n",
      "DROKAM: 6723/19980195 (0.03%)\n",
      "GOSTOM: 6960/23616162 (0.03%)\n",
      "OCHDOR: 10300/21074568 (0.05%)\n",
      "SALDOM: 4688/18118004 (0.03%)\n",
      "SZAHEN: 7680/21998446 (0.03%)\n",
      "SZAJOA: 146057/21972377 (0.66%)\n",
      "SZAMAC: 24197/19929515 (0.12%)\n",
      "TADMAL: 47165/21854193 (0.22%)\n",
      "Undetermined: 10684815/15019603 (71.14%)\n",
      "WOJFRA: 14756/20204406 (0.07%)\n",
      "WROBEA: 10178/22839758 (0.04%)\n"
     ]
    }
   ],
   "source": [
    "print(\"<File>: <non-human reads>/<total reads>\")\n",
    "\n",
    "for file in sorted(aligned_files):\n",
    "    total_reads, unmapped_reads = calculate_reads(file)\n",
    "    file_id = file.split(\"/\")[-1].split(\"_\")[0]\n",
    "\n",
    "    print(f\"{file_id}: {unmapped_reads}/{total_reads} ({unmapped_reads/total_reads*100:.2f}%)\")"
   ]
  }
 ],
 "metadata": {
  "kernelspec": {
   "display_name": "data-analysis",
   "language": "python",
   "name": "python3"
  },
  "language_info": {
   "codemirror_mode": {
    "name": "ipython",
    "version": 3
   },
   "file_extension": ".py",
   "mimetype": "text/x-python",
   "name": "python",
   "nbconvert_exporter": "python",
   "pygments_lexer": "ipython3",
   "version": "3.12.0"
  }
 },
 "nbformat": 4,
 "nbformat_minor": 2
}
