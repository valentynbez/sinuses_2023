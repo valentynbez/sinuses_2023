{
 "cells": [
  {
   "cell_type": "code",
   "execution_count": 4,
   "metadata": {},
   "outputs": [],
   "source": [
    "from pysam import AlignmentFile\n",
    "from tqdm import tqdm\n",
    "\n",
    "bam = \"/nfs/cds-peta/exports/biol_micro_cds_gr_sunagawa/scratch/vbezshapkin/sinuses_2023/data/metagenomics/processed/host_removed/GOSTOM_S2.bam\""
   ]
  },
  {
   "cell_type": "code",
   "execution_count": 5,
   "metadata": {},
   "outputs": [
    {
     "name": "stderr",
     "output_type": "stream",
     "text": [
      "23616162it [00:28, 834914.64it/s]\n"
     ]
    }
   ],
   "source": [
    "counter = 0\n",
    "\n",
    "with AlignmentFile(bam, \"rb\") as f:\n",
    "    for read in tqdm(f):\n",
    "        if read.is_unmapped:\n",
    "            counter += 1\n",
    "        if read.is_secondary:\n",
    "            counter -= 1"
   ]
  },
  {
   "cell_type": "code",
   "execution_count": 6,
   "metadata": {},
   "outputs": [
    {
     "data": {
      "text/plain": [
       "6960"
      ]
     },
     "execution_count": 6,
     "metadata": {},
     "output_type": "execute_result"
    }
   ],
   "source": [
    "counter"
   ]
  },
  {
   "cell_type": "code",
   "execution_count": null,
   "metadata": {},
   "outputs": [],
   "source": []
  }
 ],
 "metadata": {
  "kernelspec": {
   "display_name": "data-analysis",
   "language": "python",
   "name": "python3"
  },
  "language_info": {
   "codemirror_mode": {
    "name": "ipython",
    "version": 3
   },
   "file_extension": ".py",
   "mimetype": "text/x-python",
   "name": "python",
   "nbconvert_exporter": "python",
   "pygments_lexer": "ipython3",
   "version": "3.12.0"
  }
 },
 "nbformat": 4,
 "nbformat_minor": 2
}
