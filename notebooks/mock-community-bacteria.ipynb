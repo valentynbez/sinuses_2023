{
 "cells": [
  {
   "cell_type": "code",
   "execution_count": 13,
   "metadata": {},
   "outputs": [],
   "source": [
    "import qiime2\n",
    "from qiime2.plugins import (\n",
    "    cutadapt, demux, dada2, feature_table, metadata,\n",
    "    greengenes2, taxa, feature_classifier,\n",
    "    vsearch\n",
    ")\n",
    "\n",
    "from qiime2 import Artifact, Metadata\n",
    "import os\n",
    "\n",
    "import pandas as pd\n",
    "import matplotlib.pyplot as plt\n",
    "import seaborn as sns\n",
    "%matplotlib inline\n",
    "\n",
    "path = {\n",
    "    \"art\" : \"../data/artifacts/mock/\",\n",
    "    \"vis\" : \"../visualizations/mock/\",\n",
    "    \"res\" : \"../data/resources/\"\n",
    " }\n",
    "\n",
    "for filepath in path.values():\n",
    "    os.makedirs(filepath, exist_ok=True)"
   ]
  },
  {
   "cell_type": "code",
   "execution_count": 9,
   "metadata": {},
   "outputs": [],
   "source": [
    "# create mock metadata\n",
    "metadata_df = pd.DataFrame({\n",
    "    'sampleid': ['2476', '2477'], 'mock' : [0, 1]}).set_index('sampleid')\n",
    "\n",
    "metadata_q2 = qiime2.Metadata(metadata_df)"
   ]
  },
  {
   "cell_type": "code",
   "execution_count": 10,
   "metadata": {},
   "outputs": [],
   "source": [
    "# import raw data with manifest\n",
    "raw_seqs = qiime2.Artifact.import_data('SampleData[PairedEndSequencesWithQuality]',\n",
    "                                       '../data/manifest-mock.tsv', view_type='PairedEndFastqManifestPhred33V2')"
   ]
  },
  {
   "cell_type": "markdown",
   "metadata": {},
   "source": [
    "# 1. Quality control \n",
    "## 1.1. DADA2 \n",
    "Clearing sequences from artifacts of sequencing"
   ]
  },
  {
   "cell_type": "code",
   "execution_count": 11,
   "metadata": {},
   "outputs": [
    {
     "data": {
      "text/plain": [
       "'../visualizations/mock/quality-plot.qzv'"
      ]
     },
     "execution_count": 11,
     "metadata": {},
     "output_type": "execute_result"
    },
    {
     "data": {
      "text/plain": [
       "<Figure size 640x480 with 0 Axes>"
      ]
     },
     "metadata": {},
     "output_type": "display_data"
    }
   ],
   "source": [
    "quality_vis = demux.visualizers.summarize(raw_seqs)\n",
    "quality_vis.visualization.save(path[\"vis\"] + \"quality-plot.qzv\")"
   ]
  },
  {
   "cell_type": "markdown",
   "metadata": {},
   "source": [
    "## Interpretation\n",
    "\n",
    "Desired length of forward + reverse primers should cover full V3-V4 hypervariable region (~465 bp). DADA2 expects >= 12 bp of overlap. The quality of reverse read is not great (quality score of 20 means that 1% of pairs is erroneous). However, this should not hurt species classification much."
   ]
  },
  {
   "cell_type": "code",
   "execution_count": 14,
   "metadata": {},
   "outputs": [
    {
     "name": "stdout",
     "output_type": "stream",
     "text": [
      "Running external command line application(s). This may print messages to stdout and/or stderr.\n",
      "The command(s) being run are below. These commands cannot be manually re-run as they will depend on temporary files that no longer exist.\n",
      "\n",
      "Command: run_dada.R --input_directory /tmp/tmpq9ckuw6g/forward --input_directory_reverse /tmp/tmpq9ckuw6g/reverse --output_path /tmp/tmpq9ckuw6g/output.tsv.biom --output_track /tmp/tmpq9ckuw6g/track.tsv --filtered_directory /tmp/tmpq9ckuw6g/filt_f --filtered_directory_reverse /tmp/tmpq9ckuw6g/filt_r --truncation_length 260 --truncation_length_reverse 230 --trim_left 0 --trim_left_reverse 0 --max_expected_errors 2.0 --max_expected_errors_reverse 2.0 --truncation_quality_score 2 --min_overlap 12 --pooling_method independent --chimera_method consensus --min_parental_fold 4 --allow_one_off False --num_threads 32 --learn_min_reads 1000000\n",
      "\n"
     ]
    },
    {
     "name": "stderr",
     "output_type": "stream",
     "text": [
      "Warning message:\n",
      "package ‘optparse’ was built under R version 4.2.3 \n",
      "Loading required package: Rcpp\n"
     ]
    },
    {
     "name": "stdout",
     "output_type": "stream",
     "text": [
      "R version 4.2.2 (2022-10-31) \n",
      "DADA2: 1.26.0 / Rcpp: 1.0.12 / RcppParallel: 5.1.6 \n",
      "2) Filtering ..\n",
      "3) Learning Error Rates\n",
      "13288600 total bases in 51110 reads from 2 samples will be used for learning the error rates.\n",
      "11755300 total bases in 51110 reads from 2 samples will be used for learning the error rates.\n",
      "3) Denoise samples ..\n",
      "..\n",
      "5) Remove chimeras (method = consensus)\n",
      "6) Report read numbers through the pipeline\n",
      "7) Write output\n"
     ]
    },
    {
     "data": {
      "text/plain": [
       "'../visualizations/mock/feature-table.qzv'"
      ]
     },
     "execution_count": 14,
     "metadata": {},
     "output_type": "execute_result"
    }
   ],
   "source": [
    "qc_reads = dada2.methods.denoise_paired(\n",
    "    raw_seqs, trunc_len_f=260, trunc_len_r=230, n_threads=32,\n",
    "    min_fold_parent_over_abundance=4\n",
    ")\n",
    "\n",
    "qc_reads.denoising_stats.save(path[\"art\"] + \"denoise-stats.qza\")\n",
    "qc_reads.table.save(path[\"art\"] + \"feature-table.qza\")\n",
    "qc_reads.representative_sequences.save(path[\"art\"] + \"rep-seqs.qza\")\n",
    "\n",
    "\n",
    "metadata.visualizers.tabulate(input=qc_reads.denoising_stats.view(Metadata)).visualization.save(path[\"vis\"] + \"denoise-stats.qzv\")\n",
    "feature_table.visualizers.summarize(qc_reads.table).visualization.save(path[\"vis\"] + \"feature-table.qzv\")"
   ]
  },
  {
   "cell_type": "markdown",
   "metadata": {},
   "source": [
    "## Interpretation \n",
    "\n",
    "DADA2 again (3rd time) discards too many reads, which is a sign of a poor quality of sequencing. Only 35% of reads pass the initial filtering. Overall, 29% of reads passed the quality control step. "
   ]
  },
  {
   "cell_type": "markdown",
   "metadata": {},
   "source": [
    "# 2. Taxonomical classification - bacterial 16S"
   ]
  },
  {
   "cell_type": "code",
   "execution_count": 15,
   "metadata": {},
   "outputs": [],
   "source": [
    "# load preprocessed data\n",
    "table = Artifact.load(path[\"art\"] + \"feature-table.qza\")\n",
    "rep_seqs = Artifact.load(path[\"art\"] + \"rep-seqs.qza\")"
   ]
  },
  {
   "cell_type": "markdown",
   "metadata": {},
   "source": [
    "## Greengenes 2"
   ]
  },
  {
   "cell_type": "code",
   "execution_count": 16,
   "metadata": {},
   "outputs": [
    {
     "name": "stdout",
     "output_type": "stream",
     "text": [
      "Running external command line application. This may print messages to stdout and/or stderr.\n",
      "The command being run is below. This command cannot be manually re-run as it will depend on temporary files that no longer exist.\n",
      "\n",
      "Command: vsearch --usearch_global /tmp/tmp87l7vgpb --id 0.99 --db /tmp/qiime2/vbezshapkin/data/a53d9300-5c5c-4774-a2e8-a5e23904f1ae/data/dna-sequences.fasta --uc /tmp/tmptuqmd1zu --strand plus --qmask none --notmatched /tmp/tmpfuf3spon --threads 8 --minseqlength 1 --fasta_width 0\n",
      "\n"
     ]
    },
    {
     "name": "stderr",
     "output_type": "stream",
     "text": [
      "vsearch v2.22.1_linux_x86_64, 2011.2GB RAM, 256 cores\n",
      "https://github.com/torognes/vsearch\n",
      "\n",
      "Reading file /tmp/qiime2/vbezshapkin/data/a53d9300-5c5c-4774-a2e8-a5e23904f1ae/data/dna-sequences.fasta 100%\n",
      "494630940 nt in 331269 seqs, min 416, max 4563, avg 1493\n",
      "Masking 100%\n",
      "Counting k-mers 100%\n",
      "Creating k-mer index 100%\n",
      "Searching 100%\n",
      "Matching unique query sequences: 465 of 479 (97.08%)\n",
      "vsearch v2.22.1_linux_x86_64, 2011.2GB RAM, 256 cores\n",
      "https://github.com/torognes/vsearch\n",
      "\n",
      "Reading file /tmp/tmpfuf3spon 100%\n",
      "6042 nt in 14 seqs, min 277, max 465, avg 432\n",
      "Getting sizes 100%\n",
      "Sorting 100%\n",
      "Median abundance: 3\n",
      "Writing output 100%\n"
     ]
    },
    {
     "name": "stdout",
     "output_type": "stream",
     "text": [
      "Running external command line application. This may print messages to stdout and/or stderr.\n",
      "The command being run is below. This command cannot be manually re-run as it will depend on temporary files that no longer exist.\n",
      "\n",
      "Command: vsearch --sortbysize /tmp/tmpfuf3spon --xsize --output /tmp/q2-DNAFASTAFormat-gl0ry9bc --minseqlength 1 --fasta_width 0\n",
      "\n"
     ]
    },
    {
     "data": {
      "text/plain": [
       "'../data/artifacts/mock/rep-seqs-gg2.qza'"
      ]
     },
     "execution_count": 16,
     "metadata": {},
     "output_type": "execute_result"
    }
   ],
   "source": [
    "gg2_mapped = vsearch.methods.cluster_features_closed_reference(sequences=rep_seqs, table=table,\n",
    "                                                               reference_sequences=Artifact.load(path[\"res\"] + \"2022.10.backbone.full-length.fna.qza\"),\n",
    "                                                               perc_identity=0.99, threads=8)\n",
    "\n",
    "gg2_mapped.clustered_table.save(path[\"art\"] + \"feature-table-gg2.qza\")\n",
    "gg2_mapped.clustered_sequences.save(path[\"art\"] + \"rep-seqs-gg2.qza\")"
   ]
  },
  {
   "cell_type": "code",
   "execution_count": 17,
   "metadata": {},
   "outputs": [],
   "source": [
    "tax = greengenes2.methods.taxonomy_from_table(table = gg2_mapped.clustered_table,\n",
    "                                              reference_taxonomy = Artifact.load(path[\"res\"] + \"gg2.2022.10.taxonomy.asv.nwk.qza\"))"
   ]
  },
  {
   "cell_type": "code",
   "execution_count": 18,
   "metadata": {},
   "outputs": [
    {
     "data": {
      "text/plain": [
       "'../data/artifacts/mock/tax-gg2.qza'"
      ]
     },
     "execution_count": 18,
     "metadata": {},
     "output_type": "execute_result"
    }
   ],
   "source": [
    "tax.classification.save(path[\"art\"] + \"tax-gg2.qza\")"
   ]
  },
  {
   "cell_type": "code",
   "execution_count": 19,
   "metadata": {},
   "outputs": [
    {
     "data": {
      "text/plain": [
       "'../visualizations/mock/gg2-barplot.qzv'"
      ]
     },
     "execution_count": 19,
     "metadata": {},
     "output_type": "execute_result"
    }
   ],
   "source": [
    "vis = taxa.visualizers.barplot(table = gg2_mapped.clustered_table,\n",
    "                               taxonomy = Artifact.load(path[\"art\"] + \"tax-gg2.qza\"),\n",
    "                               metadata = metadata_q2)\n",
    "vis.visualization.save(path[\"vis\"] + \"gg2-barplot.qzv\")"
   ]
  },
  {
   "cell_type": "code",
   "execution_count": 20,
   "metadata": {},
   "outputs": [
    {
     "name": "stdout",
     "output_type": "stream",
     "text": [
      "Percentage of unmapped sequences: 2.92%\n"
     ]
    }
   ],
   "source": [
    "# percentage of unmapped sequences\n",
    "\n",
    "unmapped_perc = gg2_mapped.unmatched_sequences.view(pd.Series).shape[0] / rep_seqs.view(pd.Series).shape[0]\n",
    "print('Percentage of unmapped sequences: {:.2f}%'.format(unmapped_perc*100))"
   ]
  }
 ],
 "metadata": {
  "kernelspec": {
   "display_name": "qiime2-2024.2",
   "language": "python",
   "name": "python3"
  },
  "language_info": {
   "codemirror_mode": {
    "name": "ipython",
    "version": 3
   },
   "file_extension": ".py",
   "mimetype": "text/x-python",
   "name": "python",
   "nbconvert_exporter": "python",
   "pygments_lexer": "ipython3",
   "version": "3.8.15"
  }
 },
 "nbformat": 4,
 "nbformat_minor": 2
}
