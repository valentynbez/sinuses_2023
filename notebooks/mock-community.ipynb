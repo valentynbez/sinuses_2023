{
 "cells": [
  {
   "cell_type": "code",
   "execution_count": 1,
   "metadata": {},
   "outputs": [],
   "source": [
    "import qiime2\n",
    "from qiime2.plugins import (\n",
    "    cutadapt, demux, dada2, feature_table, metadata,\n",
    "    greengenes2, taxa, feature_classifier,\n",
    "    vsearch\n",
    ")\n",
    "\n",
    "from qiime2 import Artifact, Metadata\n",
    "import os\n",
    "\n",
    "import pandas as pd\n",
    "import matplotlib.pyplot as plt\n",
    "import seaborn as sns\n",
    "%matplotlib inline\n",
    "\n",
    "path = {\n",
    "    \"art\" : \"../data/artifacts/mock/\",\n",
    "    \"vis\" : \"../visualizations/mock/\",\n",
    "    \"res\" : \"../data/resources/\"\n",
    " }\n",
    "\n",
    "for filepath in path.values():\n",
    "    os.makedirs(filepath, exist_ok=True)"
   ]
  },
  {
   "cell_type": "code",
   "execution_count": null,
   "metadata": {},
   "outputs": [],
   "source": [
    "# create mock metadata\n",
    "metadata_df = pd.DataFrame({\n",
    "    'sampleid': ['2476', '2477'], 'mock' : [0, 1]}).set_index('sampleid')\n",
    "\n",
    "metadata = qiime2.Metadata(metadata_df)"
   ]
  },
  {
   "cell_type": "markdown",
   "metadata": {},
   "source": [
    "# 1. Quality control \n",
    "## 1.1. DADA2 \n",
    "Clearing sequences from artifacts of sequencing"
   ]
  },
  {
   "cell_type": "code",
   "execution_count": null,
   "metadata": {},
   "outputs": [],
   "source": [
    "# import raw data with manifest\n",
    "raw_seqs = qiime2.Artifact.import_data('SampleData[PairedEndSequencesWithQuality]',\n",
    "                                       '../data/manifest-mock.tsv', view_type='PairedEndFastqManifestPhred33V2')"
   ]
  },
  {
   "cell_type": "code",
   "execution_count": 8,
   "metadata": {},
   "outputs": [
    {
     "data": {
      "text/plain": [
       "'../visualizations/mock/quality-plot.qzv'"
      ]
     },
     "execution_count": 8,
     "metadata": {},
     "output_type": "execute_result"
    },
    {
     "data": {
      "text/plain": [
       "<Figure size 640x480 with 0 Axes>"
      ]
     },
     "metadata": {},
     "output_type": "display_data"
    }
   ],
   "source": [
    "quality_vis = demux.visualizers.summarize(raw_seqs)\n",
    "quality_vis.visualization.save(path[\"vis\"] + \"quality-plot.qzv\")"
   ]
  },
  {
   "cell_type": "markdown",
   "metadata": {},
   "source": [
    "## Interpretation\n",
    "\n",
    "Desired length of forward + reverse primers should cover full V3-V4 hypervariable region (~465 bp). DADA2 expects >= 12 bp of overlap. The quality of reverse read is not great (quality score of 20 means that 1% of pairs is erroneous). However, this should not hurt species classification much."
   ]
  },
  {
   "cell_type": "code",
   "execution_count": 3,
   "metadata": {},
   "outputs": [
    {
     "ename": "NameError",
     "evalue": "name 'raw_seqs' is not defined",
     "output_type": "error",
     "traceback": [
      "\u001b[0;31m---------------------------------------------------------------------------\u001b[0m",
      "\u001b[0;31mNameError\u001b[0m                                 Traceback (most recent call last)",
      "\u001b[1;32m/nfs/cds-peta/exports/biol_micro_cds_gr_sunagawa/scratch/vbezshapkin/sinuses_2023/notebooks/mock-community.ipynb Cell 7\u001b[0m line \u001b[0;36m2\n\u001b[1;32m      <a href='vscode-notebook-cell://ssh-remote%2Bmorgan.ethz.ch/nfs/cds-peta/exports/biol_micro_cds_gr_sunagawa/scratch/vbezshapkin/sinuses_2023/notebooks/mock-community.ipynb#W6sdnNjb2RlLXJlbW90ZQ%3D%3D?line=0'>1</a>\u001b[0m qc_reads \u001b[39m=\u001b[39m dada2\u001b[39m.\u001b[39mmethods\u001b[39m.\u001b[39mdenoise_paired(\n\u001b[0;32m----> <a href='vscode-notebook-cell://ssh-remote%2Bmorgan.ethz.ch/nfs/cds-peta/exports/biol_micro_cds_gr_sunagawa/scratch/vbezshapkin/sinuses_2023/notebooks/mock-community.ipynb#W6sdnNjb2RlLXJlbW90ZQ%3D%3D?line=1'>2</a>\u001b[0m     raw_seqs, trunc_len_f\u001b[39m=\u001b[39m\u001b[39m260\u001b[39m, trunc_len_r\u001b[39m=\u001b[39m\u001b[39m230\u001b[39m, n_threads\u001b[39m=\u001b[39m\u001b[39m32\u001b[39m,\n\u001b[1;32m      <a href='vscode-notebook-cell://ssh-remote%2Bmorgan.ethz.ch/nfs/cds-peta/exports/biol_micro_cds_gr_sunagawa/scratch/vbezshapkin/sinuses_2023/notebooks/mock-community.ipynb#W6sdnNjb2RlLXJlbW90ZQ%3D%3D?line=2'>3</a>\u001b[0m     min_fold_parent_over_abundance\u001b[39m=\u001b[39m\u001b[39m4\u001b[39m,\n\u001b[1;32m      <a href='vscode-notebook-cell://ssh-remote%2Bmorgan.ethz.ch/nfs/cds-peta/exports/biol_micro_cds_gr_sunagawa/scratch/vbezshapkin/sinuses_2023/notebooks/mock-community.ipynb#W6sdnNjb2RlLXJlbW90ZQ%3D%3D?line=3'>4</a>\u001b[0m )\n\u001b[1;32m      <a href='vscode-notebook-cell://ssh-remote%2Bmorgan.ethz.ch/nfs/cds-peta/exports/biol_micro_cds_gr_sunagawa/scratch/vbezshapkin/sinuses_2023/notebooks/mock-community.ipynb#W6sdnNjb2RlLXJlbW90ZQ%3D%3D?line=5'>6</a>\u001b[0m qc_reads\u001b[39m.\u001b[39mdenoising_stats\u001b[39m.\u001b[39msave(path[\u001b[39m\"\u001b[39m\u001b[39mart\u001b[39m\u001b[39m\"\u001b[39m] \u001b[39m+\u001b[39m \u001b[39m\"\u001b[39m\u001b[39mdenoise-stats.qza\u001b[39m\u001b[39m\"\u001b[39m)\n\u001b[1;32m      <a href='vscode-notebook-cell://ssh-remote%2Bmorgan.ethz.ch/nfs/cds-peta/exports/biol_micro_cds_gr_sunagawa/scratch/vbezshapkin/sinuses_2023/notebooks/mock-community.ipynb#W6sdnNjb2RlLXJlbW90ZQ%3D%3D?line=6'>7</a>\u001b[0m qc_reads\u001b[39m.\u001b[39mtable\u001b[39m.\u001b[39msave(path[\u001b[39m\"\u001b[39m\u001b[39mart\u001b[39m\u001b[39m\"\u001b[39m] \u001b[39m+\u001b[39m \u001b[39m\"\u001b[39m\u001b[39mfeature-table.qza\u001b[39m\u001b[39m\"\u001b[39m)\n",
      "\u001b[0;31mNameError\u001b[0m: name 'raw_seqs' is not defined"
     ]
    }
   ],
   "source": [
    "qc_reads = dada2.methods.denoise_paired(\n",
    "    raw_seqs, trunc_len_f=260, trunc_len_r=230, n_threads=32,\n",
    "    min_fold_parent_over_abundance=4,\n",
    ")\n",
    "\n",
    "qc_reads.denoising_stats.save(path[\"art\"] + \"denoise-stats.qza\")\n",
    "qc_reads.table.save(path[\"art\"] + \"feature-table.qza\")\n",
    "qc_reads.representative_sequences.save(path[\"art\"] + \"rep-seqs.qza\")\n",
    "\n",
    "\n",
    "metadata.visualizers.tabulate(input=qc_reads.denoising_stats.view(Metadata)).visualization.save(path[\"vis\"] + \"denoise-stats.qzv\")\n",
    "feature_table.visualizers.summarize(qc_reads.table).visualization.save(path[\"vis\"] + \"feature-table.qzv\")"
   ]
  },
  {
   "cell_type": "markdown",
   "metadata": {},
   "source": [
    "## Interpretation \n",
    "\n",
    "DADA2 again (3rd time) discards too many reads, which is a sign of a poor quality of sequencing. Only 35% of reads pass the filter. Majority of reads is flagged as chimeric, again. Overall, 29% and 26% of reads passed the quality control step. "
   ]
  },
  {
   "cell_type": "markdown",
   "metadata": {},
   "source": [
    "# 2. Taxonomical classification - bacterial 16S"
   ]
  },
  {
   "cell_type": "code",
   "execution_count": 3,
   "metadata": {},
   "outputs": [],
   "source": [
    "# load preprocessed data\n",
    "table = Artifact.load(path[\"art\"] + \"feature-table.qza\")\n",
    "rep_seqs = Artifact.load(path[\"art\"] + \"rep-seqs.qza\")"
   ]
  },
  {
   "cell_type": "markdown",
   "metadata": {},
   "source": [
    "## Greengenes 2"
   ]
  },
  {
   "cell_type": "code",
   "execution_count": 11,
   "metadata": {},
   "outputs": [
    {
     "name": "stdout",
     "output_type": "stream",
     "text": [
      "Running external command line application. This may print messages to stdout and/or stderr.\n",
      "The command being run is below. This command cannot be manually re-run as it will depend on temporary files that no longer exist.\n",
      "\n",
      "Command: vsearch --usearch_global /tmp/tmp47v01p8h --id 0.99 --db /tmp/qiime2/vbezshapkin/data/a53d9300-5c5c-4774-a2e8-a5e23904f1ae/data/dna-sequences.fasta --uc /tmp/tmpavjp62_x --strand plus --qmask none --notmatched /tmp/tmpquk21cfz --threads 8 --minseqlength 1 --fasta_width 0\n",
      "\n"
     ]
    },
    {
     "name": "stderr",
     "output_type": "stream",
     "text": [
      "vsearch v2.22.1_linux_x86_64, 1007.1GB RAM, 144 cores\n",
      "https://github.com/torognes/vsearch\n",
      "\n",
      "Reading file /tmp/qiime2/vbezshapkin/data/a53d9300-5c5c-4774-a2e8-a5e23904f1ae/data/dna-sequences.fasta 100%\n",
      "494630940 nt in 331269 seqs, min 416, max 4563, avg 1493\n",
      "Masking 100%\n",
      "Counting k-mers 100%\n",
      "Creating k-mer index 100%\n",
      "Searching 100%\n",
      "Matching unique query sequences: 475 of 494 (96.15%)\n"
     ]
    },
    {
     "name": "stdout",
     "output_type": "stream",
     "text": [
      "Running external command line application. This may print messages to stdout and/or stderr.\n",
      "The command being run is below. This command cannot be manually re-run as it will depend on temporary files that no longer exist.\n",
      "\n",
      "Command: vsearch --sortbysize /tmp/tmpquk21cfz --xsize --output /tmp/q2-DNAFASTAFormat-7f3t_quj --minseqlength 1 --fasta_width 0\n",
      "\n"
     ]
    },
    {
     "name": "stderr",
     "output_type": "stream",
     "text": [
      "vsearch v2.22.1_linux_x86_64, 1007.1GB RAM, 144 cores\n",
      "https://github.com/torognes/vsearch\n",
      "\n",
      "Reading file /tmp/tmpquk21cfz 100%\n",
      "8013 nt in 19 seqs, min 277, max 465, avg 422\n",
      "Getting sizes 100%\n",
      "Sorting 100%\n",
      "Median abundance: 4\n",
      "Writing output 100%\n"
     ]
    },
    {
     "data": {
      "text/plain": [
       "'../data/artifacts/mock/rep-seqs-gg2.qza'"
      ]
     },
     "execution_count": 11,
     "metadata": {},
     "output_type": "execute_result"
    }
   ],
   "source": [
    "gg2_mapped = vsearch.methods.cluster_features_closed_reference(sequences=rep_seqs, table=table,\n",
    "                                                               reference_sequences=Artifact.load(path[\"res\"] + \"2022.10.backbone.full-length.fna.qza\"),\n",
    "                                                               perc_identity=0.99, threads=8)\n",
    "\n",
    "gg2_mapped.clustered_table.save(path[\"art\"] + \"feature-table-gg2.qza\")\n",
    "gg2_mapped.clustered_sequences.save(path[\"art\"] + \"rep-seqs-gg2.qza\")"
   ]
  },
  {
   "cell_type": "code",
   "execution_count": 21,
   "metadata": {},
   "outputs": [],
   "source": [
    "tax = greengenes2.methods.taxonomy_from_table(table = gg2_mapped.clustered_table,\n",
    "                                              reference_taxonomy = Artifact.load(path[\"res\"] + \"gg2.2022.10.taxonomy.asv.nwk.qza\"))"
   ]
  },
  {
   "cell_type": "code",
   "execution_count": 22,
   "metadata": {},
   "outputs": [
    {
     "data": {
      "text/plain": [
       "'../data/artifacts/mock/tax-gg2.qza'"
      ]
     },
     "execution_count": 22,
     "metadata": {},
     "output_type": "execute_result"
    }
   ],
   "source": [
    "tax.classification.save(path[\"art\"] + \"tax-gg2.qza\")"
   ]
  },
  {
   "cell_type": "code",
   "execution_count": 24,
   "metadata": {},
   "outputs": [
    {
     "data": {
      "text/plain": [
       "'../visualizations/mock/gg2-barplot.qzv'"
      ]
     },
     "execution_count": 24,
     "metadata": {},
     "output_type": "execute_result"
    }
   ],
   "source": [
    "vis = taxa.visualizers.barplot(table = gg2_mapped.clustered_table,\n",
    "                               taxonomy = Artifact.load(path[\"art\"] + \"tax-gg2.qza\"),\n",
    "                               metadata = metadata)\n",
    "vis.visualization.save(path[\"vis\"] + \"gg2-barplot.qzv\")"
   ]
  },
  {
   "cell_type": "code",
   "execution_count": 20,
   "metadata": {},
   "outputs": [
    {
     "name": "stdout",
     "output_type": "stream",
     "text": [
      "Percentage of unmapped sequences: 3.85%\n"
     ]
    }
   ],
   "source": [
    "# percentage of unmapped sequences\n",
    "\n",
    "unmapped_perc = gg2_mapped.unmatched_sequences.view(pd.Series).shape[0] / rep_seqs.view(pd.Series).shape[0]\n",
    "print('Percentage of unmapped sequences: {:.2f}%'.format(unmapped_perc*100))"
   ]
  },
  {
   "cell_type": "markdown",
   "metadata": {},
   "source": [
    "## 3. Taxonomical classification - ITS"
   ]
  },
  {
   "cell_type": "code",
   "execution_count": null,
   "metadata": {},
   "outputs": [],
   "source": [
    "# Run out of memory, reset tmpdir, runs bashes script internally, doesn't respect fish shell :/\n",
    "# export TMPDIR=./tmp/"
   ]
  },
  {
   "cell_type": "code",
   "execution_count": 1,
   "metadata": {},
   "outputs": [],
   "source": [
    "# # classification command\n",
    "# qiime feature-classifier classify-sklearn \\\n",
    "#     --i-reads data/artifacts/mock/rep-seqs.qza \\\n",
    "#     --i-classifier data/resources/unite_ver9_99_25.07.2023-Q2-2023.9.qza \\\n",
    "#     --n-jobs 8 \\\n",
    "#     --o-classification data/artifacts/mock/rep-seqs-unite-its.qza"
   ]
  },
  {
   "cell_type": "code",
   "execution_count": null,
   "metadata": {},
   "outputs": [],
   "source": [
    "# load results"
   ]
  }
 ],
 "metadata": {
  "kernelspec": {
   "display_name": "qiime2-2024.2",
   "language": "python",
   "name": "python3"
  },
  "language_info": {
   "codemirror_mode": {
    "name": "ipython",
    "version": 3
   },
   "file_extension": ".py",
   "mimetype": "text/x-python",
   "name": "python",
   "nbconvert_exporter": "python",
   "pygments_lexer": "ipython3",
   "version": "3.8.0"
  }
 },
 "nbformat": 4,
 "nbformat_minor": 2
}
