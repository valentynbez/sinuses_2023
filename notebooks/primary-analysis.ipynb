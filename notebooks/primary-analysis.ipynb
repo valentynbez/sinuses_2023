{
 "cells": [
  {
   "cell_type": "code",
   "execution_count": 4,
   "metadata": {},
   "outputs": [],
   "source": [
    "import qiime2\n",
    "from qiime2.plugins import (\n",
    "    demux, dada2, feature_table, metadata, \n",
    "    greengenes2, taxa, feature_classifier, \n",
    "    vsearch\n",
    ")\n",
    "\n",
    "from qiime2 import Artifact, Metadata\n",
    "import os\n",
    "\n",
    "import pandas as pd\n",
    "import matplotlib.pyplot as plt \n",
    "import seaborn as sns\n",
    "%matplotlib inline\n",
    "\n",
    "path = {\n",
    "    \"art\" : \"../data/artifacts/\",\n",
    "    \"vis\" : \"../visualizations/\",\n",
    "}\n",
    "\n",
    "for filepath in path.values():\n",
    "    os.makedirs(filepath, exist_ok=True)"
   ]
  },
  {
   "cell_type": "code",
   "execution_count": 2,
   "metadata": {},
   "outputs": [],
   "source": [
    "df = pd.read_csv(\"../data/metadata.csv\", index_col=\"sampleid\", \n",
    "                 dtype={\"sampleid\" : str})\n",
    "metadata = Metadata(df)"
   ]
  },
  {
   "cell_type": "code",
   "execution_count": 3,
   "metadata": {},
   "outputs": [
    {
     "name": "stderr",
     "output_type": "stream",
     "text": [
      "/nfs/cds-peta/exports/biol_micro_cds_gr_sunagawa/scratch/vbezshapkin/conda-envs/qiime2-2023.2/lib/python3.8/site-packages/qiime2/core/cache.py:440: UserWarning: Your temporary cache was found to be in an inconsistent state. It has been recreated.\n",
      "  warnings.warn(\n"
     ]
    }
   ],
   "source": [
    "# import raw data with manifest \n",
    "raw_seqs = qiime2.Artifact.import_data('SampleData[PairedEndSequencesWithQuality]', '../data/manifest.tsv', view_type='PairedEndFastqManifestPhred33V2')"
   ]
  },
  {
   "cell_type": "markdown",
   "metadata": {},
   "source": [
    "# 1. Quality control \n",
    "## 1.1. DADA2 - losing too many reads\n",
    "Clearing sequences from artifacts of sequencing"
   ]
  },
  {
   "cell_type": "code",
   "execution_count": 35,
   "metadata": {},
   "outputs": [],
   "source": [
    "# quality_vis = demux.visualizers.summarize(raw_seqs)\n",
    "# quality_vis.visualization.save(path[\"vis\"] + \"quality-plot.qzv\")\n",
    "\n",
    "# qc_reads = dada2.methods.denoise_paired(\n",
    "#     raw_seqs, trunc_len_f=260, trunc_len_r=200, n_threads=16,\n",
    "#     min_fold_parent_over_abundance=4\n",
    "# )\n",
    "\n",
    "# qc_reads.denoising_stats.save(path[\"art\"] + \"denoise-stats.qza\")\n",
    "# qc_reads.table.save(path[\"art\"] + \"feature-table.qza\")\n",
    "# qc_reads.representative_sequences.save(path[\"art\"] + \"rep-seqs.qza\")\n",
    "\n",
    "# metadata.visualizers.tabulate(input=qc_reads.denoising_stats.view(Metadata)).visualization.save(path[\"vis\"] + \"denoise-stats.qzv\")\n",
    "# feature_table.visualizers.summarize(qc_reads.table).visualization.save(path[\"vis\"] + \"feature-table.qzv\")"
   ]
  },
  {
   "cell_type": "markdown",
   "metadata": {},
   "source": [
    "## 1.2. Demux - even more sequences are lost;\n",
    "Didn't continue analysis after merging"
   ]
  },
  {
   "cell_type": "code",
   "execution_count": 5,
   "metadata": {},
   "outputs": [
    {
     "name": "stdout",
     "output_type": "stream",
     "text": [
      "Running external command line application. This may print messages to stdout and/or stderr.\n",
      "The command being run is below. This command cannot be manually re-run as it will depend on temporary files that no longer exist.\n",
      "\n",
      "Command: vsearch --fastq_mergepairs /tmp/qiime2/vbezshapkin/data/c070d371-9c10-4689-809d-1d5546ab84f4/data/1824_0_L001_R1_001.fastq.gz --reverse /tmp/qiime2/vbezshapkin/data/c070d371-9c10-4689-809d-1d5546ab84f4/data/1824_12_L001_R2_001.fastq.gz --fastqout /tmp/q2-SingleLanePerSampleSingleEndFastqDirFmt-895l5seo/1824_0_L001_R1_001.fastq --fastq_ascii 33 --fastq_minlen 1 --fastq_minovlen 10 --fastq_maxdiffs 10 --fastq_qmin 0 --fastq_qminout 0 --fastq_qmax 41 --fastq_qmaxout 41 --fasta_width 0 --threads 1\n",
      "\n"
     ]
    },
    {
     "name": "stderr",
     "output_type": "stream",
     "text": [
      "vsearch v2.22.1_linux_x86_64, 1007.1GB RAM, 144 cores\n",
      "https://github.com/torognes/vsearch\n",
      "\n",
      "Merging reads 100%\n",
      "     20721  Pairs\n",
      "     10093  Merged (48.7%)\n",
      "     10628  Not merged (51.3%)\n",
      "\n",
      "Pairs that failed merging due to various reasons:\n",
      "        43  too few kmers found on same diagonal\n",
      "      4170  too many differences\n",
      "      4617  alignment score too low, or score drop too high\n",
      "      1798  staggered read pairs\n",
      "\n",
      "Statistics of all reads:\n",
      "    301.00  Mean read length\n",
      "\n",
      "Statistics of merged reads:\n",
      "    459.21  Mean fragment length\n",
      "     21.43  Standard deviation of fragment length\n",
      "      0.75  Mean expected error in forward sequences\n",
      "      4.83  Mean expected error in reverse sequences\n",
      "      0.26  Mean expected error in merged sequences\n",
      "      0.36  Mean observed errors in merged region of forward sequences\n",
      "      5.26  Mean observed errors in merged region of reverse sequences\n",
      "      5.62  Mean observed errors in merged region\n"
     ]
    },
    {
     "name": "stdout",
     "output_type": "stream",
     "text": [
      "Running external command line application. This may print messages to stdout and/or stderr.\n",
      "The command being run is below. This command cannot be manually re-run as it will depend on temporary files that no longer exist.\n",
      "\n",
      "Command: gzip /tmp/q2-SingleLanePerSampleSingleEndFastqDirFmt-895l5seo/1824_0_L001_R1_001.fastq\n",
      "\n",
      "Running external command line application. This may print messages to stdout and/or stderr.\n",
      "The command being run is below. This command cannot be manually re-run as it will depend on temporary files that no longer exist.\n",
      "\n",
      "Command: vsearch --fastq_mergepairs /tmp/qiime2/vbezshapkin/data/c070d371-9c10-4689-809d-1d5546ab84f4/data/1832_1_L001_R1_001.fastq.gz --reverse /tmp/qiime2/vbezshapkin/data/c070d371-9c10-4689-809d-1d5546ab84f4/data/1832_13_L001_R2_001.fastq.gz --fastqout /tmp/q2-SingleLanePerSampleSingleEndFastqDirFmt-895l5seo/1832_1_L001_R1_001.fastq --fastq_ascii 33 --fastq_minlen 1 --fastq_minovlen 10 --fastq_maxdiffs 10 --fastq_qmin 0 --fastq_qminout 0 --fastq_qmax 41 --fastq_qmaxout 41 --fasta_width 0 --threads 1\n",
      "\n"
     ]
    },
    {
     "name": "stderr",
     "output_type": "stream",
     "text": [
      "vsearch v2.22.1_linux_x86_64, 1007.1GB RAM, 144 cores\n",
      "https://github.com/torognes/vsearch\n",
      "\n",
      "Merging reads 100%\n",
      "     19426  Pairs\n",
      "      8366  Merged (43.1%)\n",
      "     11060  Not merged (56.9%)\n",
      "\n",
      "Pairs that failed merging due to various reasons:\n",
      "        37  too few kmers found on same diagonal\n",
      "      3521  too many differences\n",
      "      4601  alignment score too low, or score drop too high\n",
      "         3  overlap too short\n",
      "      2898  staggered read pairs\n",
      "\n",
      "Statistics of all reads:\n",
      "    301.00  Mean read length\n",
      "\n",
      "Statistics of merged reads:\n",
      "    458.10  Mean fragment length\n",
      "     28.62  Standard deviation of fragment length\n",
      "      0.67  Mean expected error in forward sequences\n",
      "      4.90  Mean expected error in reverse sequences\n",
      "      0.30  Mean expected error in merged sequences\n",
      "      0.29  Mean observed errors in merged region of forward sequences\n",
      "      5.33  Mean observed errors in merged region of reverse sequences\n",
      "      5.61  Mean observed errors in merged region\n"
     ]
    },
    {
     "name": "stdout",
     "output_type": "stream",
     "text": [
      "Running external command line application. This may print messages to stdout and/or stderr.\n",
      "The command being run is below. This command cannot be manually re-run as it will depend on temporary files that no longer exist.\n",
      "\n",
      "Command: gzip /tmp/q2-SingleLanePerSampleSingleEndFastqDirFmt-895l5seo/1832_1_L001_R1_001.fastq\n",
      "\n",
      "Running external command line application. This may print messages to stdout and/or stderr.\n",
      "The command being run is below. This command cannot be manually re-run as it will depend on temporary files that no longer exist.\n",
      "\n",
      "Command: vsearch --fastq_mergepairs /tmp/qiime2/vbezshapkin/data/c070d371-9c10-4689-809d-1d5546ab84f4/data/1840_2_L001_R1_001.fastq.gz --reverse /tmp/qiime2/vbezshapkin/data/c070d371-9c10-4689-809d-1d5546ab84f4/data/1840_14_L001_R2_001.fastq.gz --fastqout /tmp/q2-SingleLanePerSampleSingleEndFastqDirFmt-895l5seo/1840_2_L001_R1_001.fastq --fastq_ascii 33 --fastq_minlen 1 --fastq_minovlen 10 --fastq_maxdiffs 10 --fastq_qmin 0 --fastq_qminout 0 --fastq_qmax 41 --fastq_qmaxout 41 --fasta_width 0 --threads 1\n",
      "\n"
     ]
    },
    {
     "name": "stderr",
     "output_type": "stream",
     "text": [
      "vsearch v2.22.1_linux_x86_64, 1007.1GB RAM, 144 cores\n",
      "https://github.com/torognes/vsearch\n",
      "\n",
      "Merging reads 100%\n",
      "     29451  Pairs\n",
      "     12390  Merged (42.1%)\n",
      "     17061  Not merged (57.9%)\n",
      "\n",
      "Pairs that failed merging due to various reasons:\n",
      "        86  too few kmers found on same diagonal\n",
      "      5340  too many differences\n",
      "      7645  alignment score too low, or score drop too high\n",
      "         2  overlap too short\n",
      "      3988  staggered read pairs\n",
      "\n",
      "Statistics of all reads:\n",
      "    301.00  Mean read length\n",
      "\n",
      "Statistics of merged reads:\n",
      "    458.55  Mean fragment length\n",
      "     29.78  Standard deviation of fragment length\n",
      "      0.67  Mean expected error in forward sequences\n",
      "      4.87  Mean expected error in reverse sequences\n",
      "      0.30  Mean expected error in merged sequences\n",
      "      0.29  Mean observed errors in merged region of forward sequences\n",
      "      5.49  Mean observed errors in merged region of reverse sequences\n",
      "      5.78  Mean observed errors in merged region\n"
     ]
    },
    {
     "name": "stdout",
     "output_type": "stream",
     "text": [
      "Running external command line application. This may print messages to stdout and/or stderr.\n",
      "The command being run is below. This command cannot be manually re-run as it will depend on temporary files that no longer exist.\n",
      "\n",
      "Command: gzip /tmp/q2-SingleLanePerSampleSingleEndFastqDirFmt-895l5seo/1840_2_L001_R1_001.fastq\n",
      "\n",
      "Running external command line application. This may print messages to stdout and/or stderr.\n",
      "The command being run is below. This command cannot be manually re-run as it will depend on temporary files that no longer exist.\n",
      "\n",
      "Command: vsearch --fastq_mergepairs /tmp/qiime2/vbezshapkin/data/c070d371-9c10-4689-809d-1d5546ab84f4/data/1848_3_L001_R1_001.fastq.gz --reverse /tmp/qiime2/vbezshapkin/data/c070d371-9c10-4689-809d-1d5546ab84f4/data/1848_15_L001_R2_001.fastq.gz --fastqout /tmp/q2-SingleLanePerSampleSingleEndFastqDirFmt-895l5seo/1848_3_L001_R1_001.fastq --fastq_ascii 33 --fastq_minlen 1 --fastq_minovlen 10 --fastq_maxdiffs 10 --fastq_qmin 0 --fastq_qminout 0 --fastq_qmax 41 --fastq_qmaxout 41 --fasta_width 0 --threads 1\n",
      "\n"
     ]
    },
    {
     "name": "stderr",
     "output_type": "stream",
     "text": [
      "vsearch v2.22.1_linux_x86_64, 1007.1GB RAM, 144 cores\n",
      "https://github.com/torognes/vsearch\n",
      "\n",
      "Merging reads 100%\n",
      "     20910  Pairs\n",
      "      8732  Merged (41.8%)\n",
      "     12178  Not merged (58.2%)\n",
      "\n",
      "Pairs that failed merging due to various reasons:\n",
      "        59  too few kmers found on same diagonal\n",
      "      3427  too many differences\n",
      "      5068  alignment score too low, or score drop too high\n",
      "      3624  staggered read pairs\n",
      "\n",
      "Statistics of all reads:\n",
      "    301.00  Mean read length\n",
      "\n",
      "Statistics of merged reads:\n",
      "    456.42  Mean fragment length\n",
      "     33.81  Standard deviation of fragment length\n",
      "      0.66  Mean expected error in forward sequences\n",
      "      4.79  Mean expected error in reverse sequences\n",
      "      0.29  Mean expected error in merged sequences\n",
      "      0.29  Mean observed errors in merged region of forward sequences\n",
      "      5.23  Mean observed errors in merged region of reverse sequences\n",
      "      5.52  Mean observed errors in merged region\n"
     ]
    },
    {
     "name": "stdout",
     "output_type": "stream",
     "text": [
      "Running external command line application. This may print messages to stdout and/or stderr.\n",
      "The command being run is below. This command cannot be manually re-run as it will depend on temporary files that no longer exist.\n",
      "\n",
      "Command: gzip /tmp/q2-SingleLanePerSampleSingleEndFastqDirFmt-895l5seo/1848_3_L001_R1_001.fastq\n",
      "\n",
      "Running external command line application. This may print messages to stdout and/or stderr.\n",
      "The command being run is below. This command cannot be manually re-run as it will depend on temporary files that no longer exist.\n",
      "\n",
      "Command: vsearch --fastq_mergepairs /tmp/qiime2/vbezshapkin/data/c070d371-9c10-4689-809d-1d5546ab84f4/data/1856_4_L001_R1_001.fastq.gz --reverse /tmp/qiime2/vbezshapkin/data/c070d371-9c10-4689-809d-1d5546ab84f4/data/1856_16_L001_R2_001.fastq.gz --fastqout /tmp/q2-SingleLanePerSampleSingleEndFastqDirFmt-895l5seo/1856_4_L001_R1_001.fastq --fastq_ascii 33 --fastq_minlen 1 --fastq_minovlen 10 --fastq_maxdiffs 10 --fastq_qmin 0 --fastq_qminout 0 --fastq_qmax 41 --fastq_qmaxout 41 --fasta_width 0 --threads 1\n",
      "\n"
     ]
    },
    {
     "name": "stderr",
     "output_type": "stream",
     "text": [
      "vsearch v2.22.1_linux_x86_64, 1007.1GB RAM, 144 cores\n",
      "https://github.com/torognes/vsearch\n",
      "\n",
      "Merging reads 100%\n",
      "     49744  Pairs\n",
      "     28245  Merged (56.8%)\n",
      "     21499  Not merged (43.2%)\n",
      "\n",
      "Pairs that failed merging due to various reasons:\n",
      "        47  too few kmers found on same diagonal\n",
      "     10509  too many differences\n",
      "     10649  alignment score too low, or score drop too high\n",
      "       294  staggered read pairs\n",
      "\n",
      "Statistics of all reads:\n",
      "    301.00  Mean read length\n",
      "\n",
      "Statistics of merged reads:\n",
      "    464.06  Mean fragment length\n",
      "      6.60  Standard deviation of fragment length\n",
      "      0.70  Mean expected error in forward sequences\n",
      "      4.69  Mean expected error in reverse sequences\n",
      "      0.24  Mean expected error in merged sequences\n",
      "      0.30  Mean observed errors in merged region of forward sequences\n",
      "      5.21  Mean observed errors in merged region of reverse sequences\n",
      "      5.51  Mean observed errors in merged region\n"
     ]
    },
    {
     "name": "stdout",
     "output_type": "stream",
     "text": [
      "Running external command line application. This may print messages to stdout and/or stderr.\n",
      "The command being run is below. This command cannot be manually re-run as it will depend on temporary files that no longer exist.\n",
      "\n",
      "Command: gzip /tmp/q2-SingleLanePerSampleSingleEndFastqDirFmt-895l5seo/1856_4_L001_R1_001.fastq\n",
      "\n",
      "Running external command line application. This may print messages to stdout and/or stderr.\n",
      "The command being run is below. This command cannot be manually re-run as it will depend on temporary files that no longer exist.\n",
      "\n",
      "Command: vsearch --fastq_mergepairs /tmp/qiime2/vbezshapkin/data/c070d371-9c10-4689-809d-1d5546ab84f4/data/1864_5_L001_R1_001.fastq.gz --reverse /tmp/qiime2/vbezshapkin/data/c070d371-9c10-4689-809d-1d5546ab84f4/data/1864_17_L001_R2_001.fastq.gz --fastqout /tmp/q2-SingleLanePerSampleSingleEndFastqDirFmt-895l5seo/1864_5_L001_R1_001.fastq --fastq_ascii 33 --fastq_minlen 1 --fastq_minovlen 10 --fastq_maxdiffs 10 --fastq_qmin 0 --fastq_qminout 0 --fastq_qmax 41 --fastq_qmaxout 41 --fasta_width 0 --threads 1\n",
      "\n"
     ]
    },
    {
     "name": "stderr",
     "output_type": "stream",
     "text": [
      "vsearch v2.22.1_linux_x86_64, 1007.1GB RAM, 144 cores\n",
      "https://github.com/torognes/vsearch\n",
      "\n",
      "Merging reads 100%\n",
      "     52361  Pairs\n",
      "     25091  Merged (47.9%)\n",
      "     27270  Not merged (52.1%)\n",
      "\n",
      "Pairs that failed merging due to various reasons:\n",
      "        63  too few kmers found on same diagonal\n",
      "     12209  too many differences\n",
      "     13005  alignment score too low, or score drop too high\n",
      "      1993  staggered read pairs\n",
      "\n",
      "Statistics of all reads:\n",
      "    301.00  Mean read length\n",
      "\n",
      "Statistics of merged reads:\n",
      "    457.55  Mean fragment length\n",
      "     16.26  Standard deviation of fragment length\n",
      "      0.84  Mean expected error in forward sequences\n",
      "      4.87  Mean expected error in reverse sequences\n",
      "      0.25  Mean expected error in merged sequences\n",
      "      0.37  Mean observed errors in merged region of forward sequences\n",
      "      5.40  Mean observed errors in merged region of reverse sequences\n",
      "      5.77  Mean observed errors in merged region\n"
     ]
    },
    {
     "name": "stdout",
     "output_type": "stream",
     "text": [
      "Running external command line application. This may print messages to stdout and/or stderr.\n",
      "The command being run is below. This command cannot be manually re-run as it will depend on temporary files that no longer exist.\n",
      "\n",
      "Command: gzip /tmp/q2-SingleLanePerSampleSingleEndFastqDirFmt-895l5seo/1864_5_L001_R1_001.fastq\n",
      "\n",
      "Running external command line application. This may print messages to stdout and/or stderr.\n",
      "The command being run is below. This command cannot be manually re-run as it will depend on temporary files that no longer exist.\n",
      "\n",
      "Command: vsearch --fastq_mergepairs /tmp/qiime2/vbezshapkin/data/c070d371-9c10-4689-809d-1d5546ab84f4/data/1872_6_L001_R1_001.fastq.gz --reverse /tmp/qiime2/vbezshapkin/data/c070d371-9c10-4689-809d-1d5546ab84f4/data/1872_18_L001_R2_001.fastq.gz --fastqout /tmp/q2-SingleLanePerSampleSingleEndFastqDirFmt-895l5seo/1872_6_L001_R1_001.fastq --fastq_ascii 33 --fastq_minlen 1 --fastq_minovlen 10 --fastq_maxdiffs 10 --fastq_qmin 0 --fastq_qminout 0 --fastq_qmax 41 --fastq_qmaxout 41 --fasta_width 0 --threads 1\n",
      "\n"
     ]
    },
    {
     "name": "stderr",
     "output_type": "stream",
     "text": [
      "vsearch v2.22.1_linux_x86_64, 1007.1GB RAM, 144 cores\n",
      "https://github.com/torognes/vsearch\n",
      "\n",
      "Merging reads 100%\n",
      "     28677  Pairs\n",
      "     10906  Merged (38.0%)\n",
      "     17771  Not merged (62.0%)\n",
      "\n",
      "Pairs that failed merging due to various reasons:\n",
      "       123  too few kmers found on same diagonal\n",
      "         1  multiple potential alignments\n",
      "      5117  too many differences\n",
      "      6888  alignment score too low, or score drop too high\n",
      "         2  overlap too short\n",
      "      5640  staggered read pairs\n",
      "\n",
      "Statistics of all reads:\n",
      "    301.00  Mean read length\n",
      "\n",
      "Statistics of merged reads:\n",
      "    451.07  Mean fragment length\n",
      "     36.96  Standard deviation of fragment length\n",
      "      0.79  Mean expected error in forward sequences\n",
      "      4.86  Mean expected error in reverse sequences\n",
      "      0.28  Mean expected error in merged sequences\n",
      "      0.37  Mean observed errors in merged region of forward sequences\n",
      "      5.26  Mean observed errors in merged region of reverse sequences\n",
      "      5.63  Mean observed errors in merged region\n"
     ]
    },
    {
     "name": "stdout",
     "output_type": "stream",
     "text": [
      "Running external command line application. This may print messages to stdout and/or stderr.\n",
      "The command being run is below. This command cannot be manually re-run as it will depend on temporary files that no longer exist.\n",
      "\n",
      "Command: gzip /tmp/q2-SingleLanePerSampleSingleEndFastqDirFmt-895l5seo/1872_6_L001_R1_001.fastq\n",
      "\n",
      "Running external command line application. This may print messages to stdout and/or stderr.\n",
      "The command being run is below. This command cannot be manually re-run as it will depend on temporary files that no longer exist.\n",
      "\n",
      "Command: vsearch --fastq_mergepairs /tmp/qiime2/vbezshapkin/data/c070d371-9c10-4689-809d-1d5546ab84f4/data/1880_7_L001_R1_001.fastq.gz --reverse /tmp/qiime2/vbezshapkin/data/c070d371-9c10-4689-809d-1d5546ab84f4/data/1880_19_L001_R2_001.fastq.gz --fastqout /tmp/q2-SingleLanePerSampleSingleEndFastqDirFmt-895l5seo/1880_7_L001_R1_001.fastq --fastq_ascii 33 --fastq_minlen 1 --fastq_minovlen 10 --fastq_maxdiffs 10 --fastq_qmin 0 --fastq_qminout 0 --fastq_qmax 41 --fastq_qmaxout 41 --fasta_width 0 --threads 1\n",
      "\n"
     ]
    },
    {
     "name": "stderr",
     "output_type": "stream",
     "text": [
      "vsearch v2.22.1_linux_x86_64, 1007.1GB RAM, 144 cores\n",
      "https://github.com/torognes/vsearch\n",
      "\n",
      "Merging reads 100%\n",
      "     42024  Pairs\n",
      "     18071  Merged (43.0%)\n",
      "     23953  Not merged (57.0%)\n",
      "\n",
      "Pairs that failed merging due to various reasons:\n",
      "        29  too few kmers found on same diagonal\n",
      "     10390  too many differences\n",
      "     13059  alignment score too low, or score drop too high\n",
      "       475  staggered read pairs\n",
      "\n",
      "Statistics of all reads:\n",
      "    301.00  Mean read length\n",
      "\n",
      "Statistics of merged reads:\n",
      "    457.94  Mean fragment length\n",
      "     10.28  Standard deviation of fragment length\n",
      "      0.77  Mean expected error in forward sequences\n",
      "      4.99  Mean expected error in reverse sequences\n",
      "      0.22  Mean expected error in merged sequences\n",
      "      0.34  Mean observed errors in merged region of forward sequences\n",
      "      5.57  Mean observed errors in merged region of reverse sequences\n",
      "      5.91  Mean observed errors in merged region\n"
     ]
    },
    {
     "name": "stdout",
     "output_type": "stream",
     "text": [
      "Running external command line application. This may print messages to stdout and/or stderr.\n",
      "The command being run is below. This command cannot be manually re-run as it will depend on temporary files that no longer exist.\n",
      "\n",
      "Command: gzip /tmp/q2-SingleLanePerSampleSingleEndFastqDirFmt-895l5seo/1880_7_L001_R1_001.fastq\n",
      "\n",
      "Running external command line application. This may print messages to stdout and/or stderr.\n",
      "The command being run is below. This command cannot be manually re-run as it will depend on temporary files that no longer exist.\n",
      "\n",
      "Command: vsearch --fastq_mergepairs /tmp/qiime2/vbezshapkin/data/c070d371-9c10-4689-809d-1d5546ab84f4/data/1888_8_L001_R1_001.fastq.gz --reverse /tmp/qiime2/vbezshapkin/data/c070d371-9c10-4689-809d-1d5546ab84f4/data/1888_20_L001_R2_001.fastq.gz --fastqout /tmp/q2-SingleLanePerSampleSingleEndFastqDirFmt-895l5seo/1888_8_L001_R1_001.fastq --fastq_ascii 33 --fastq_minlen 1 --fastq_minovlen 10 --fastq_maxdiffs 10 --fastq_qmin 0 --fastq_qminout 0 --fastq_qmax 41 --fastq_qmaxout 41 --fasta_width 0 --threads 1\n",
      "\n"
     ]
    },
    {
     "name": "stderr",
     "output_type": "stream",
     "text": [
      "vsearch v2.22.1_linux_x86_64, 1007.1GB RAM, 144 cores\n",
      "https://github.com/torognes/vsearch\n",
      "\n",
      "Merging reads 100%\n",
      "     45702  Pairs\n",
      "     17536  Merged (38.4%)\n",
      "     28166  Not merged (61.6%)\n",
      "\n",
      "Pairs that failed merging due to various reasons:\n",
      "        55  too few kmers found on same diagonal\n",
      "     11354  too many differences\n",
      "     15242  alignment score too low, or score drop too high\n",
      "      1515  staggered read pairs\n",
      "\n",
      "Statistics of all reads:\n",
      "    301.00  Mean read length\n",
      "\n",
      "Statistics of merged reads:\n",
      "    456.10  Mean fragment length\n",
      "     14.84  Standard deviation of fragment length\n",
      "      0.90  Mean expected error in forward sequences\n",
      "      5.07  Mean expected error in reverse sequences\n",
      "      0.24  Mean expected error in merged sequences\n",
      "      0.42  Mean observed errors in merged region of forward sequences\n",
      "      5.60  Mean observed errors in merged region of reverse sequences\n",
      "      6.02  Mean observed errors in merged region\n"
     ]
    },
    {
     "name": "stdout",
     "output_type": "stream",
     "text": [
      "Running external command line application. This may print messages to stdout and/or stderr.\n",
      "The command being run is below. This command cannot be manually re-run as it will depend on temporary files that no longer exist.\n",
      "\n",
      "Command: gzip /tmp/q2-SingleLanePerSampleSingleEndFastqDirFmt-895l5seo/1888_8_L001_R1_001.fastq\n",
      "\n",
      "Running external command line application. This may print messages to stdout and/or stderr.\n",
      "The command being run is below. This command cannot be manually re-run as it will depend on temporary files that no longer exist.\n",
      "\n",
      "Command: vsearch --fastq_mergepairs /tmp/qiime2/vbezshapkin/data/c070d371-9c10-4689-809d-1d5546ab84f4/data/1896_9_L001_R1_001.fastq.gz --reverse /tmp/qiime2/vbezshapkin/data/c070d371-9c10-4689-809d-1d5546ab84f4/data/1896_21_L001_R2_001.fastq.gz --fastqout /tmp/q2-SingleLanePerSampleSingleEndFastqDirFmt-895l5seo/1896_9_L001_R1_001.fastq --fastq_ascii 33 --fastq_minlen 1 --fastq_minovlen 10 --fastq_maxdiffs 10 --fastq_qmin 0 --fastq_qminout 0 --fastq_qmax 41 --fastq_qmaxout 41 --fasta_width 0 --threads 1\n",
      "\n"
     ]
    },
    {
     "name": "stderr",
     "output_type": "stream",
     "text": [
      "vsearch v2.22.1_linux_x86_64, 1007.1GB RAM, 144 cores\n",
      "https://github.com/torognes/vsearch\n",
      "\n",
      "Merging reads 100%\n",
      "     29116  Pairs\n",
      "     14264  Merged (49.0%)\n",
      "     14852  Not merged (51.0%)\n",
      "\n",
      "Pairs that failed merging due to various reasons:\n",
      "        41  too few kmers found on same diagonal\n",
      "      6233  too many differences\n",
      "      6952  alignment score too low, or score drop too high\n",
      "      1626  staggered read pairs\n",
      "\n",
      "Statistics of all reads:\n",
      "    301.00  Mean read length\n",
      "\n",
      "Statistics of merged reads:\n",
      "    456.51  Mean fragment length\n",
      "     18.20  Standard deviation of fragment length\n",
      "      0.86  Mean expected error in forward sequences\n",
      "      4.69  Mean expected error in reverse sequences\n",
      "      0.23  Mean expected error in merged sequences\n",
      "      0.41  Mean observed errors in merged region of forward sequences\n",
      "      5.20  Mean observed errors in merged region of reverse sequences\n",
      "      5.61  Mean observed errors in merged region\n"
     ]
    },
    {
     "name": "stdout",
     "output_type": "stream",
     "text": [
      "Running external command line application. This may print messages to stdout and/or stderr.\n",
      "The command being run is below. This command cannot be manually re-run as it will depend on temporary files that no longer exist.\n",
      "\n",
      "Command: gzip /tmp/q2-SingleLanePerSampleSingleEndFastqDirFmt-895l5seo/1896_9_L001_R1_001.fastq\n",
      "\n",
      "Running external command line application. This may print messages to stdout and/or stderr.\n",
      "The command being run is below. This command cannot be manually re-run as it will depend on temporary files that no longer exist.\n",
      "\n",
      "Command: vsearch --fastq_mergepairs /tmp/qiime2/vbezshapkin/data/c070d371-9c10-4689-809d-1d5546ab84f4/data/1904_10_L001_R1_001.fastq.gz --reverse /tmp/qiime2/vbezshapkin/data/c070d371-9c10-4689-809d-1d5546ab84f4/data/1904_22_L001_R2_001.fastq.gz --fastqout /tmp/q2-SingleLanePerSampleSingleEndFastqDirFmt-895l5seo/1904_10_L001_R1_001.fastq --fastq_ascii 33 --fastq_minlen 1 --fastq_minovlen 10 --fastq_maxdiffs 10 --fastq_qmin 0 --fastq_qminout 0 --fastq_qmax 41 --fastq_qmaxout 41 --fasta_width 0 --threads 1\n",
      "\n"
     ]
    },
    {
     "name": "stderr",
     "output_type": "stream",
     "text": [
      "vsearch v2.22.1_linux_x86_64, 1007.1GB RAM, 144 cores\n",
      "https://github.com/torognes/vsearch\n",
      "\n",
      "Merging reads 100%\n",
      "     39802  Pairs\n",
      "     16926  Merged (42.5%)\n",
      "     22876  Not merged (57.5%)\n",
      "\n",
      "Pairs that failed merging due to various reasons:\n",
      "        63  too few kmers found on same diagonal\n",
      "      7656  too many differences\n",
      "      8681  alignment score too low, or score drop too high\n",
      "         3  overlap too short\n",
      "      6473  staggered read pairs\n",
      "\n",
      "Statistics of all reads:\n",
      "    301.00  Mean read length\n",
      "\n",
      "Statistics of merged reads:\n",
      "    451.76  Mean fragment length\n",
      "     22.46  Standard deviation of fragment length\n",
      "      0.73  Mean expected error in forward sequences\n",
      "      4.82  Mean expected error in reverse sequences\n",
      "      0.23  Mean expected error in merged sequences\n",
      "      0.37  Mean observed errors in merged region of forward sequences\n",
      "      5.35  Mean observed errors in merged region of reverse sequences\n",
      "      5.72  Mean observed errors in merged region\n"
     ]
    },
    {
     "name": "stdout",
     "output_type": "stream",
     "text": [
      "Running external command line application. This may print messages to stdout and/or stderr.\n",
      "The command being run is below. This command cannot be manually re-run as it will depend on temporary files that no longer exist.\n",
      "\n",
      "Command: gzip /tmp/q2-SingleLanePerSampleSingleEndFastqDirFmt-895l5seo/1904_10_L001_R1_001.fastq\n",
      "\n",
      "Running external command line application. This may print messages to stdout and/or stderr.\n",
      "The command being run is below. This command cannot be manually re-run as it will depend on temporary files that no longer exist.\n",
      "\n",
      "Command: vsearch --fastq_mergepairs /tmp/qiime2/vbezshapkin/data/c070d371-9c10-4689-809d-1d5546ab84f4/data/1912_11_L001_R1_001.fastq.gz --reverse /tmp/qiime2/vbezshapkin/data/c070d371-9c10-4689-809d-1d5546ab84f4/data/1912_23_L001_R2_001.fastq.gz --fastqout /tmp/q2-SingleLanePerSampleSingleEndFastqDirFmt-895l5seo/1912_11_L001_R1_001.fastq --fastq_ascii 33 --fastq_minlen 1 --fastq_minovlen 10 --fastq_maxdiffs 10 --fastq_qmin 0 --fastq_qminout 0 --fastq_qmax 41 --fastq_qmaxout 41 --fasta_width 0 --threads 1\n",
      "\n"
     ]
    },
    {
     "name": "stderr",
     "output_type": "stream",
     "text": [
      "vsearch v2.22.1_linux_x86_64, 1007.1GB RAM, 144 cores\n",
      "https://github.com/torognes/vsearch\n",
      "\n",
      "Merging reads 100%\n",
      "     59875  Pairs\n",
      "     27807  Merged (46.4%)\n",
      "     32068  Not merged (53.6%)\n",
      "\n",
      "Pairs that failed merging due to various reasons:\n",
      "        96  too few kmers found on same diagonal\n",
      "         1  multiple potential alignments\n",
      "     14828  too many differences\n",
      "     15611  alignment score too low, or score drop too high\n",
      "         1  overlap too short\n",
      "      1531  staggered read pairs\n",
      "\n",
      "Statistics of all reads:\n",
      "    301.00  Mean read length\n",
      "\n",
      "Statistics of merged reads:\n",
      "    461.54  Mean fragment length\n",
      "     12.66  Standard deviation of fragment length\n",
      "      0.75  Mean expected error in forward sequences\n",
      "      4.97  Mean expected error in reverse sequences\n",
      "      0.26  Mean expected error in merged sequences\n",
      "      0.36  Mean observed errors in merged region of forward sequences\n",
      "      5.59  Mean observed errors in merged region of reverse sequences\n",
      "      5.94  Mean observed errors in merged region\n"
     ]
    },
    {
     "name": "stdout",
     "output_type": "stream",
     "text": [
      "Running external command line application. This may print messages to stdout and/or stderr.\n",
      "The command being run is below. This command cannot be manually re-run as it will depend on temporary files that no longer exist.\n",
      "\n",
      "Command: gzip /tmp/q2-SingleLanePerSampleSingleEndFastqDirFmt-895l5seo/1912_11_L001_R1_001.fastq\n",
      "\n"
     ]
    }
   ],
   "source": [
    "joined_reads = vsearch.methods.merge_pairs(raw_seqs)"
   ]
  },
  {
   "cell_type": "code",
   "execution_count": 7,
   "metadata": {},
   "outputs": [
    {
     "name": "stderr",
     "output_type": "stream",
     "text": [
      "/nfs/cds-peta/exports/biol_micro_cds_gr_sunagawa/scratch/vbezshapkin/conda-envs/qiime2-2023.2/lib/python3.8/site-packages/q2_demux/_summarize/_visualizer.py:191: FutureWarning: The frame.append method is deprecated and will be removed from pandas in a future version. Use pandas.concat instead.\n",
      "  context['result_data'] = context['result_data'].append(df)\n"
     ]
    },
    {
     "data": {
      "text/plain": [
       "<Figure size 640x480 with 0 Axes>"
      ]
     },
     "metadata": {},
     "output_type": "display_data"
    }
   ],
   "source": [
    "# quality plot  \n",
    "quality_vis = demux.visualizers.summarize(joined_reads.merged_sequences).visualization.save(path[\"vis\"] + \"quality-plot-joined.qzv\")"
   ]
  },
  {
   "cell_type": "markdown",
   "metadata": {},
   "source": [
    "# 2. Taxonomical classification"
   ]
  },
  {
   "cell_type": "code",
   "execution_count": 41,
   "metadata": {},
   "outputs": [],
   "source": [
    "# load preprocessed data\n",
    "table = Artifact.load(path[\"art\"] + \"feature-table.qza\")\n",
    "rep_seqs = Artifact.load(path[\"art\"] + \"rep-seqs.qza\")"
   ]
  },
  {
   "cell_type": "markdown",
   "metadata": {},
   "source": [
    "## 2.1 Greengenes 2 - [publication](https://www.nature.com/articles/s41587-023-01845-1)"
   ]
  },
  {
   "cell_type": "code",
   "execution_count": 42,
   "metadata": {},
   "outputs": [
    {
     "name": "stdout",
     "output_type": "stream",
     "text": [
      "Running external command line application. This may print messages to stdout and/or stderr.\n",
      "The command being run is below. This command cannot be manually re-run as it will depend on temporary files that no longer exist.\n",
      "\n",
      "Command: vsearch --usearch_global /tmp/tmp6zhf9d3d --id 0.99 --db /tmp/qiime2/vbezshapkin/data/a53d9300-5c5c-4774-a2e8-a5e23904f1ae/data/dna-sequences.fasta --uc /tmp/tmp17_zmoyw --strand plus --qmask none --notmatched /tmp/tmpxnlv69ki --threads 8 --minseqlength 1 --fasta_width 0\n",
      "\n"
     ]
    },
    {
     "name": "stderr",
     "output_type": "stream",
     "text": [
      "vsearch v2.22.1_linux_x86_64, 1007.1GB RAM, 144 cores\n",
      "https://github.com/torognes/vsearch\n",
      "\n",
      "Reading file /tmp/qiime2/vbezshapkin/data/a53d9300-5c5c-4774-a2e8-a5e23904f1ae/data/dna-sequences.fasta 100%\n",
      "494630940 nt in 331269 seqs, min 416, max 4563, avg 1493\n",
      "Masking 100%\n",
      "Counting k-mers 100%\n",
      "Creating k-mer index 100%\n",
      "Searching 100%\n",
      "Matching unique query sequences: 1084 of 1784 (60.76%)\n"
     ]
    },
    {
     "name": "stdout",
     "output_type": "stream",
     "text": [
      "Running external command line application. This may print messages to stdout and/or stderr.\n",
      "The command being run is below. This command cannot be manually re-run as it will depend on temporary files that no longer exist.\n",
      "\n",
      "Command: vsearch --sortbysize /tmp/tmpxnlv69ki --xsize --output /tmp/q2-DNAFASTAFormat-u1x075sp --minseqlength 1 --fasta_width 0\n",
      "\n"
     ]
    },
    {
     "name": "stderr",
     "output_type": "stream",
     "text": [
      "vsearch v2.22.1_linux_x86_64, 1007.1GB RAM, 144 cores\n",
      "https://github.com/torognes/vsearch\n",
      "\n",
      "Reading file /tmp/tmpxnlv69ki 100%\n",
      "251317 nt in 700 seqs, min 260, max 448, avg 359\n",
      "Getting sizes 100%\n",
      "Sorting 100%\n",
      "Median abundance: 15\n",
      "Writing output 100%\n"
     ]
    }
   ],
   "source": [
    "from qiime2.plugins import vsearch\n",
    "\n",
    "gg2_mapped = vsearch.methods.cluster_features_closed_reference(sequences=rep_seqs, table=table,\n",
    "                                                               reference_sequences=Artifact.load(path[\"art\"] + \"2022.10.backbone.full-length.fna.qza\"),\n",
    "                                                               perc_identity=0.99, threads=8)"
   ]
  },
  {
   "cell_type": "code",
   "execution_count": 43,
   "metadata": {},
   "outputs": [
    {
     "data": {
      "text/plain": [
       "'../data/artifacts/rep-seqs-gg2.qza'"
      ]
     },
     "execution_count": 43,
     "metadata": {},
     "output_type": "execute_result"
    }
   ],
   "source": [
    "gg2_mapped.clustered_table.save(\"../data/artifacts/feature-table-gg2.qza\")\n",
    "gg2_mapped.clustered_sequences.save(\"../data/artifacts/rep-seqs-gg2.qza\")"
   ]
  },
  {
   "cell_type": "code",
   "execution_count": 44,
   "metadata": {},
   "outputs": [
    {
     "name": "stdout",
     "output_type": "stream",
     "text": [
      "Percentage of unmapped sequences: 39.24%\n"
     ]
    }
   ],
   "source": [
    "# percentage of unmapped sequences \n",
    "\n",
    "unmapped_perc = gg2_mapped.unmatched_sequences.view(pd.Series).shape[0] / rep_seqs.view(pd.Series).shape[0]\n",
    "print('Percentage of unmapped sequences: {:.2f}%'.format(unmapped_perc*100))"
   ]
  },
  {
   "cell_type": "markdown",
   "metadata": {},
   "source": [
    "## Best `Blastn` hits on unmapped sequences: \n",
    "\n",
    "1. Homo sapiens mutS homolog 3 (MSH3), RefSeqGene on chromosome 5\n",
    "2. Homo sapiens isolate CHM13 chromosome 17\n",
    "3. Homo sapiens mutS homolog 3 (MSH3), RefSeqGene on chromosome 5\n",
    "4. Uncultured bacterium clone OTU_105 16S ribosomal RNA gene, partial sequence\n",
    "5. Picea glauca isolate WS77111 chloroplast, complete genome (Świerk biały :D)"
   ]
  },
  {
   "cell_type": "markdown",
   "metadata": {},
   "source": [
    "70% sekwencji nie pochodzi od bakterii, tylko od innych rzeczy (człowiek, jakieś inne rzeczy z nosa)"
   ]
  },
  {
   "cell_type": "markdown",
   "metadata": {},
   "source": [
    "# Relative abundance of unmapped reads"
   ]
  },
  {
   "cell_type": "code",
   "execution_count": 45,
   "metadata": {},
   "outputs": [
    {
     "data": {
      "image/png": "[encoded data removed]",
      "text/plain": [
       "<Figure size 640x480 with 1 Axes>"
      ]
     },
     "metadata": {},
     "output_type": "display_data"
    }
   ],
   "source": [
    "# count percentage in rows\n",
    "rel_abundance_df = table.view(pd.DataFrame)\n",
    "rel_abundance_df = rel_abundance_df.div(rel_abundance_df.sum(axis=1), axis=0)\n",
    "unmapped = gg2_mapped.unmatched_sequences.view(pd.Series).index\n",
    "# calculate percentage of unmapped in each row \n",
    "rel_abundance_df['unmapped'] = rel_abundance_df[unmapped].sum(axis=1)\n",
    "# plot kdeplot of results\n",
    "g = sns.stripplot(rel_abundance_df['unmapped'])\n",
    "g.set(ylabel=\"Proportion of unmapped reads\")\n",
    "# add sample names over points\n",
    "for i, point in enumerate(rel_abundance_df['unmapped'].index):\n",
    "    g.text(0.3, rel_abundance_df['unmapped'][i]+0.01, rel_abundance_df['unmapped'].index[i], horizontalalignment='center', size='small', \n",
    "           color='black')"
   ]
  },
  {
   "cell_type": "code",
   "execution_count": 46,
   "metadata": {},
   "outputs": [
    {
     "data": {
      "image/png": "[encoded data removed]",
      "text/plain": [
       "<Figure size 640x480 with 1 Axes>"
      ]
     },
     "metadata": {},
     "output_type": "display_data"
    }
   ],
   "source": [
    "data = pd.concat([table.view(pd.DataFrame).sum(axis=1), rel_abundance_df[\"unmapped\"]], axis=1)\n",
    "data.columns = [\"total\", \"unmapped\"]\n",
    "g = sns.regplot(x=\"total\", y=\"unmapped\", data=data, fit_reg=True)\n",
    "g.set(xlabel=\"Total number of reads\", ylabel=\"Proportion of unmapped reads\");"
   ]
  },
  {
   "cell_type": "code",
   "execution_count": 47,
   "metadata": {},
   "outputs": [
    {
     "data": {
      "text/plain": [
       "1824    0.394829\n",
       "1832    0.579799\n",
       "1840    0.778635\n",
       "1848    0.699806\n",
       "1856    0.182969\n",
       "1864    0.081081\n",
       "1872    0.715528\n",
       "1880    0.032348\n",
       "1888    0.075224\n",
       "1896    0.110883\n",
       "1904    0.239066\n",
       "1912    0.131313\n",
       "Name: unmapped, dtype: float64"
      ]
     },
     "execution_count": 47,
     "metadata": {},
     "output_type": "execute_result"
    }
   ],
   "source": [
    "rel_abundance_df[\"unmapped\"]"
   ]
  },
  {
   "cell_type": "code",
   "execution_count": null,
   "metadata": {},
   "outputs": [
    {
     "name": "stdout",
     "output_type": "stream",
     "text": [
      "--2023-08-01 15:26:46--  http://ftp.microbio.me/greengenes_release/2022.10/2022.10.taxonomy.asv.nwk.qza\n",
      "Resolving ftp.microbio.me (ftp.microbio.me)... 169.228.46.98\n",
      "Connecting to ftp.microbio.me (ftp.microbio.me)|169.228.46.98|:80... connected.\n",
      "HTTP request sent, awaiting response... 200 OK\n",
      "Length: 193668351 (185M)\n",
      "Saving to: ‘../data/artifacts/gg2.2022.10.taxonomy.asv.nwk.qza’\n",
      "\n",
      "../data/artifacts/g 100%[===================>] 184.70M  14.6MB/s    in 13s     \n",
      "\n",
      "2023-08-01 15:26:59 (14.5 MB/s) - ‘../data/artifacts/gg2.2022.10.taxonomy.asv.nwk.qza’ saved [193668351/193668351]\n",
      "\n"
     ]
    }
   ],
   "source": [
    "!wget -O ../data/artifacts/gg2.2022.10.taxonomy.asv.nwk.qza http://ftp.microbio.me/greengenes_release/2022.10/2022.10.taxonomy.asv.nwk.qza"
   ]
  },
  {
   "cell_type": "code",
   "execution_count": 48,
   "metadata": {},
   "outputs": [],
   "source": [
    "tax = greengenes2.methods.taxonomy_from_table(table = gg2_mapped.clustered_table,\n",
    "                                              reference_taxonomy = Artifact.load(path[\"art\"] + \"gg2.2022.10.taxonomy.asv.nwk.qza\"))"
   ]
  },
  {
   "cell_type": "code",
   "execution_count": 49,
   "metadata": {},
   "outputs": [
    {
     "data": {
      "text/plain": [
       "'../data/artifacts/tax-gg2.qza'"
      ]
     },
     "execution_count": 49,
     "metadata": {},
     "output_type": "execute_result"
    }
   ],
   "source": [
    "tax.classification.save(path[\"art\"] + \"tax-gg2.qza\")"
   ]
  },
  {
   "cell_type": "code",
   "execution_count": 69,
   "metadata": {},
   "outputs": [
    {
     "data": {
      "text/plain": [
       "'../visualizations/gg2-barplot.qzv'"
      ]
     },
     "execution_count": 69,
     "metadata": {},
     "output_type": "execute_result"
    }
   ],
   "source": [
    "vis = taxa.visualizers.barplot(table = gg2_mapped.clustered_table,\n",
    "                               taxonomy = Artifact.load(path[\"art\"] + \"tax-gg2.qza\"),\n",
    "                               metadata = metadata)\n",
    "vis.visualization.save(path[\"vis\"] + \"gg2-barplot.qzv\")"
   ]
  },
  {
   "cell_type": "code",
   "execution_count": 51,
   "metadata": {},
   "outputs": [
    {
     "data": {
      "text/plain": [
       "1824     1896.0\n",
       "1832     1377.0\n",
       "1840      717.0\n",
       "1848      927.0\n",
       "1856     1420.0\n",
       "1864    13260.0\n",
       "1872     1145.0\n",
       "1880    14897.0\n",
       "1888    15785.0\n",
       "1896     7802.0\n",
       "1904     8508.0\n",
       "1912     4902.0\n",
       "dtype: float64"
      ]
     },
     "execution_count": 51,
     "metadata": {},
     "output_type": "execute_result"
    }
   ],
   "source": [
    "gg2_mapped.clustered_table.view(pd.DataFrame).sum(axis=1)"
   ]
  },
  {
   "cell_type": "markdown",
   "metadata": {},
   "source": [
    "## 2.2. SILVA 138.1\n",
    "\n",
    "### 2.2.1. Naive\n",
    "\n",
    "Regular SILVA classifier for V3-V4 primers from the study"
   ]
  },
  {
   "cell_type": "code",
   "execution_count": 52,
   "metadata": {},
   "outputs": [],
   "source": [
    "tax = feature_classifier.methods.classify_sklearn(\n",
    "    reads=rep_seqs,\n",
    "    classifier=Artifact.load(path[\"art\"] + \"classifier-silva-138.1-ssu-341f-806r.qza\"),\n",
    "    n_jobs=16\n",
    ")"
   ]
  },
  {
   "cell_type": "code",
   "execution_count": 55,
   "metadata": {},
   "outputs": [
    {
     "data": {
      "text/plain": [
       "'../data/artifacts/tax-silva-138.1-samples.qza'"
      ]
     },
     "execution_count": 55,
     "metadata": {},
     "output_type": "execute_result"
    }
   ],
   "source": [
    "tax.classification.save(path[\"art\"] + \"tax-silva-138.1-samples.qza\")"
   ]
  },
  {
   "cell_type": "code",
   "execution_count": 57,
   "metadata": {},
   "outputs": [
    {
     "data": {
      "text/plain": [
       "'../visualizations/silva-naive-barplot.qzv'"
      ]
     },
     "execution_count": 57,
     "metadata": {},
     "output_type": "execute_result"
    }
   ],
   "source": [
    "vis = taxa.visualizers.barplot(table=table,\n",
    "                               taxonomy=tax.classification)\n",
    "vis.visualization.save(path[\"vis\"] + \"silva-naive-barplot.qzv\")"
   ]
  }
 ],
 "metadata": {
  "kernelspec": {
   "display_name": "qiime2-2023.2",
   "language": "python",
   "name": "python3"
  },
  "language_info": {
   "codemirror_mode": {
    "name": "ipython",
    "version": 3
   },
   "file_extension": ".py",
   "mimetype": "text/x-python",
   "name": "python",
   "nbconvert_exporter": "python",
   "pygments_lexer": "ipython3",
   "version": "3.8.15"
  },
  "orig_nbformat": 4
 },
 "nbformat": 4,
 "nbformat_minor": 2
}
