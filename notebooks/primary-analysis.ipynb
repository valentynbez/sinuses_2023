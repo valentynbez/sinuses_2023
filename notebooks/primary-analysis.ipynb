{
 "cells": [
  {
   "cell_type": "code",
   "execution_count": 76,
   "metadata": {},
   "outputs": [],
   "source": [
    "import qiime2\n",
    "from qiime2.plugins import (\n",
    "    demux, dada2, feature_table, metadata, \n",
    "    greengenes2, taxa\n",
    ")\n",
    "\n",
    "from qiime2 import Artifact\n",
    "import os\n",
    "\n",
    "import pandas as pd\n",
    "import matplotlib.pyplot as plt \n",
    "import seaborn as sns\n",
    "%matplotlib inline\n",
    "\n",
    "path = {\n",
    "    \"art\" : \"../data/artifacts/\",\n",
    "    \"vis\" : \"../visualizations/\",\n",
    "}\n",
    "\n",
    "for filepath in path.values():\n",
    "    os.makedirs(filepath, exist_ok=True)"
   ]
  },
  {
   "cell_type": "markdown",
   "metadata": {},
   "source": [
    "# 1. Quality control \n",
    "\n",
    "Clearing sequences from artifacts of sequencing"
   ]
  },
  {
   "cell_type": "code",
   "execution_count": 23,
   "metadata": {},
   "outputs": [],
   "source": [
    "# import raw data with manifest \n",
    "raw_seqs = qiime2.Artifact.import_data('SampleData[PairedEndSequencesWithQuality]', '../data/manifest.tsv', view_type='PairedEndFastqManifestPhred33V2')"
   ]
  },
  {
   "cell_type": "code",
   "execution_count": 24,
   "metadata": {},
   "outputs": [
    {
     "name": "stderr",
     "output_type": "stream",
     "text": [
      "/nfs/cds-peta/exports/biol_micro_cds_gr_sunagawa/scratch/vbezshapkin/conda-envs/qiime2-2023.2/lib/python3.8/site-packages/q2_demux/_summarize/_visualizer.py:191: FutureWarning: The frame.append method is deprecated and will be removed from pandas in a future version. Use pandas.concat instead.\n",
      "  context['result_data'] = context['result_data'].append(df)\n",
      "/nfs/cds-peta/exports/biol_micro_cds_gr_sunagawa/scratch/vbezshapkin/conda-envs/qiime2-2023.2/lib/python3.8/site-packages/q2_demux/_summarize/_visualizer.py:191: FutureWarning: The frame.append method is deprecated and will be removed from pandas in a future version. Use pandas.concat instead.\n",
      "  context['result_data'] = context['result_data'].append(df)\n"
     ]
    }
   ],
   "source": [
    "quality_vis = demux.visualizers.summarize(raw_seqs)"
   ]
  },
  {
   "cell_type": "code",
   "execution_count": 73,
   "metadata": {},
   "outputs": [
    {
     "data": {
      "text/plain": [
       "'../visualizations/quality-plot.qzv'"
      ]
     },
     "execution_count": 73,
     "metadata": {},
     "output_type": "execute_result"
    }
   ],
   "source": [
    "quality_vis.visualization.save(path[\"vis\"] + \"quality-plot.qzv\")"
   ]
  },
  {
   "cell_type": "code",
   "execution_count": null,
   "metadata": {},
   "outputs": [
    {
     "name": "stdout",
     "output_type": "stream",
     "text": [
      "Running external command line application(s). This may print messages to stdout and/or stderr.\n",
      "The command(s) being run are below. These commands cannot be manually re-run as they will depend on temporary files that no longer exist.\n",
      "\n",
      "Command: run_dada.R --input_directory /tmp/tmpot2ct8fo/forward --input_directory_reverse /tmp/tmpot2ct8fo/reverse --output_path /tmp/tmpot2ct8fo/output.tsv.biom --output_track /tmp/tmpot2ct8fo/track.tsv --filtered_directory /tmp/tmpot2ct8fo/filt_f --filtered_directory_reverse /tmp/tmpot2ct8fo/filt_r --truncation_length 260 --truncation_length_reverse 200 --trim_left 0 --trim_left_reverse 0 --max_expected_errors 2.0 --max_expected_errors_reverse 2.0 --truncation_quality_score 2 --min_overlap 12 --pooling_method independent --chimera_method consensus --min_parental_fold 1.0 --allow_one_off False --num_threads 8 --learn_min_reads 1000000\n",
      "\n"
     ]
    },
    {
     "name": "stdout",
     "output_type": "stream",
     "text": [
      "R version 4.2.2 (2022-10-31) \n"
     ]
    },
    {
     "name": "stderr",
     "output_type": "stream",
     "text": [
      "Loading required package: Rcpp\n"
     ]
    },
    {
     "name": "stdout",
     "output_type": "stream",
     "text": [
      "DADA2: 1.26.0 / Rcpp: 1.0.10 / RcppParallel: 5.1.6 \n",
      "2) Filtering ............\n",
      "3) Learning Error Rates\n",
      "89318840 total bases in 343534 reads from 12 samples will be used for learning the error rates.\n",
      "68706800 total bases in 343534 reads from 12 samples will be used for learning the error rates.\n",
      "3) Denoise samples ............\n",
      "............\n",
      "5) Remove chimeras (method = consensus)\n",
      "6) Report read numbers through the pipeline\n",
      "7) Write output\n"
     ]
    }
   ],
   "source": [
    "qc_reads = dada2.methods.denoise_paired(raw_seqs, trunc_len_f=260, trunc_len_r=200, n_threads=8)"
   ]
  },
  {
   "cell_type": "code",
   "execution_count": null,
   "metadata": {},
   "outputs": [
    {
     "data": {
      "text/plain": [
       "'../data/artifacts/rep-seqs.qza'"
      ]
     },
     "execution_count": 18,
     "metadata": {},
     "output_type": "execute_result"
    }
   ],
   "source": [
    "qc_reads.denoising_stats.save(path[\"art\"] + \"denoise-stats.qza\")\n",
    "qc_reads.table.save(path[\"art\"] + \"feature-table.qza\")\n",
    "qc_reads.representative_sequences.save(path[\"art\"] + \"rep-seqs.qza\")"
   ]
  },
  {
   "cell_type": "code",
   "execution_count": null,
   "metadata": {},
   "outputs": [
    {
     "data": {
      "text/plain": [
       "'../visualizations/feature-table.qzv'"
      ]
     },
     "execution_count": 22,
     "metadata": {},
     "output_type": "execute_result"
    }
   ],
   "source": [
    "feature_table.visualizers.summarize(qc_reads.table).visualization.save(path[\"vis\"] + \"feature-table.qzv\")"
   ]
  },
  {
   "cell_type": "markdown",
   "metadata": {},
   "source": [
    "# 2. Taxonomical classification"
   ]
  },
  {
   "cell_type": "code",
   "execution_count": 26,
   "metadata": {},
   "outputs": [],
   "source": [
    "# load preprocessed data\n",
    "table = Artifact.load(path[\"art\"] + \"feature-table.qza\")\n",
    "rep_seqs = Artifact.load(path[\"art\"] + \"rep-seqs.qza\")"
   ]
  },
  {
   "cell_type": "markdown",
   "metadata": {},
   "source": [
    "## 2.1 Greengenes 2 - [publication](https://www.nature.com/articles/s41587-023-01845-1)"
   ]
  },
  {
   "cell_type": "code",
   "execution_count": 5,
   "metadata": {},
   "outputs": [
    {
     "name": "stdout",
     "output_type": "stream",
     "text": [
      "Running external command line application. This may print messages to stdout and/or stderr.\n",
      "The command being run is below. This command cannot be manually re-run as it will depend on temporary files that no longer exist.\n",
      "\n",
      "Command: vsearch --usearch_global /tmp/tmptuaddvw2 --id 0.99 --db /tmp/qiime2/vbezshapkin/data/a53d9300-5c5c-4774-a2e8-a5e23904f1ae/data/dna-sequences.fasta --uc /tmp/tmpibu6kuwl --strand plus --qmask none --notmatched /tmp/tmpqr9_h8k2 --threads 8 --minseqlength 1 --fasta_width 0\n",
      "\n"
     ]
    },
    {
     "name": "stderr",
     "output_type": "stream",
     "text": [
      "vsearch v2.22.1_linux_x86_64, 1007.1GB RAM, 144 cores\n",
      "https://github.com/torognes/vsearch\n",
      "\n",
      "Reading file /tmp/qiime2/vbezshapkin/data/a53d9300-5c5c-4774-a2e8-a5e23904f1ae/data/dna-sequences.fasta 100%\n",
      "494630940 nt in 331269 seqs, min 416, max 4563, avg 1493\n",
      "Masking 100%\n",
      "Counting k-mers 100%\n",
      "Creating k-mer index 100%\n",
      "Searching 100%\n",
      "Matching unique query sequences: 187 of 620 (30.16%)\n"
     ]
    },
    {
     "name": "stdout",
     "output_type": "stream",
     "text": [
      "Running external command line application. This may print messages to stdout and/or stderr.\n",
      "The command being run is below. This command cannot be manually re-run as it will depend on temporary files that no longer exist.\n",
      "\n",
      "Command: vsearch --sortbysize /tmp/tmpqr9_h8k2 --xsize --output /tmp/q2-DNAFASTAFormat-qd5kytpe --minseqlength 1 --fasta_width 0\n",
      "\n"
     ]
    },
    {
     "name": "stderr",
     "output_type": "stream",
     "text": [
      "vsearch v2.22.1_linux_x86_64, 1007.1GB RAM, 144 cores\n",
      "https://github.com/torognes/vsearch\n",
      "\n",
      "Reading file /tmp/tmpqr9_h8k2 100%\n",
      "151636 nt in 433 seqs, min 260, max 448, avg 350\n",
      "Getting sizes 100%\n",
      "Sorting 100%\n",
      "Median abundance: 14\n",
      "Writing output 100%\n"
     ]
    }
   ],
   "source": [
    "from qiime2.plugins import vsearch\n",
    "\n",
    "gg2_mapped = vsearch.methods.cluster_features_closed_reference(sequences=rep_seqs, table=table,\n",
    "                                                               reference_sequences=Artifact.load(path[\"art\"] + \"2022.10.backbone.full-length.fna.qza\"),\n",
    "                                                               perc_identity=0.99, threads=8)"
   ]
  },
  {
   "cell_type": "code",
   "execution_count": 18,
   "metadata": {},
   "outputs": [
    {
     "data": {
      "text/plain": [
       "'../data/artifacts/rep-seqs-gg2.qza'"
      ]
     },
     "execution_count": 18,
     "metadata": {},
     "output_type": "execute_result"
    }
   ],
   "source": [
    "gg2_mapped.clustered_table.save(\"../data/artifacts/feature-table-gg2.qza\")\n",
    "gg2_mapped.clustered_sequences.save(\"../data/artifacts/rep-seqs-gg2.qza\")"
   ]
  },
  {
   "cell_type": "code",
   "execution_count": 8,
   "metadata": {},
   "outputs": [
    {
     "name": "stdout",
     "output_type": "stream",
     "text": [
      "Percentage of unmapped sequences: 69.84%\n"
     ]
    }
   ],
   "source": [
    "# percentage of unmapped sequences \n",
    "\n",
    "unmapped_perc = gg2_mapped.unmatched_sequences.view(pd.Series).shape[0] + rep_seqs.view(pd.Series).shape[0]\n",
    "print('Percentage of unmapped sequences: {:.2f}%'.format(unmapped_perc*100))"
   ]
  },
  {
   "cell_type": "markdown",
   "metadata": {},
   "source": [
    "## Best `Blastn` hits on unmapped sequences: \n",
    "\n",
    "1. Homo sapiens mutS homolog 3 (MSH3), RefSeqGene on chromosome 5\n",
    "2. Homo sapiens isolate CHM13 chromosome 17\n",
    "3. Homo sapiens mutS homolog 3 (MSH3), RefSeqGene on chromosome 5\n",
    "4. Uncultured bacterium clone OTU_105 16S ribosomal RNA gene, partial sequence\n",
    "5. Picea glauca isolate WS77111 chloroplast, complete genome (Świerk biały :D)"
   ]
  },
  {
   "cell_type": "markdown",
   "metadata": {},
   "source": [
    "70% sekwencji nie pochodzi od bakterii, tylko od innych rzeczy (człowiek, jakieś inne rzeczy z nosa)"
   ]
  },
  {
   "cell_type": "markdown",
   "metadata": {},
   "source": [
    "# Relative abundance of unmapped reads"
   ]
  },
  {
   "cell_type": "code",
   "execution_count": 68,
   "metadata": {},
   "outputs": [
    {
     "data": {
      "image/png": "[encoded data removed]",
      "text/plain": [
       "<Figure size 640x480 with 1 Axes>"
      ]
     },
     "metadata": {},
     "output_type": "display_data"
    }
   ],
   "source": [
    "# count percentage in rows\n",
    "rel_abundance_df = table.view(pd.DataFrame)\n",
    "rel_abundance_df = rel_abundance_df.div(rel_abundance_df.sum(axis=1), axis=0)\n",
    "unmapped = gg2_mapped.unmatched_sequences.view(pd.Series).index\n",
    "# calculate percentage of unmapped in each row \n",
    "rel_abundance_df['unmapped'] = rel_abundance_df[unmapped].sum(axis=1)\n",
    "# plot kdeplot of results\n",
    "g = sns.stripplot(rel_abundance_df['unmapped'])\n",
    "g.set(ylabel=\"Proportion of unmapped reads\")\n",
    "# add sample names over points\n",
    "for i, point in enumerate(rel_abundance_df['unmapped'].index):\n",
    "    g.text(0.3, rel_abundance_df['unmapped'][i]+0.01, rel_abundance_df['unmapped'].index[i], horizontalalignment='center', size='small', \n",
    "           color='black')"
   ]
  },
  {
   "cell_type": "code",
   "execution_count": 107,
   "metadata": {},
   "outputs": [
    {
     "data": {
      "image/png": "[encoded data removed]",
      "text/plain": [
       "<Figure size 640x480 with 1 Axes>"
      ]
     },
     "metadata": {},
     "output_type": "display_data"
    }
   ],
   "source": [
    "data = pd.concat([table.view(pd.DataFrame).sum(axis=1), rel_abundance_df[\"unmapped\"]], axis=1)\n",
    "data.columns = [\"total\", \"unmapped\"]\n",
    "g = sns.regplot(x=\"total\", y=\"unmapped\", data=data, fit_reg=True)\n",
    "g.set(xlabel=\"Total number of reads\", ylabel=\"Proportion of unmapped reads\");"
   ]
  },
  {
   "cell_type": "code",
   "execution_count": 102,
   "metadata": {},
   "outputs": [
    {
     "data": {
      "text/plain": [
       "1824_S101    0.603856\n",
       "1832_S109    0.516971\n",
       "1840_S117    0.854772\n",
       "1848_S125    0.820408\n",
       "1856_S133    0.395349\n",
       "1864_S141    0.154986\n",
       "1872_S149    0.748687\n",
       "1880_S157    0.034158\n",
       "1888_S165    0.105943\n",
       "1896_S173    0.221786\n",
       "1904_S181    0.340448\n",
       "1912_S189    0.335607\n",
       "Name: unmapped, dtype: float64"
      ]
     },
     "execution_count": 102,
     "metadata": {},
     "output_type": "execute_result"
    }
   ],
   "source": [
    "rel_abundance_df[\"unmapped\"]"
   ]
  },
  {
   "cell_type": "code",
   "execution_count": 14,
   "metadata": {},
   "outputs": [
    {
     "name": "stdout",
     "output_type": "stream",
     "text": [
      "--2023-08-01 15:26:46--  http://ftp.microbio.me/greengenes_release/2022.10/2022.10.taxonomy.asv.nwk.qza\n",
      "Resolving ftp.microbio.me (ftp.microbio.me)... 169.228.46.98\n",
      "Connecting to ftp.microbio.me (ftp.microbio.me)|169.228.46.98|:80... connected.\n",
      "HTTP request sent, awaiting response... 200 OK\n",
      "Length: 193668351 (185M)\n",
      "Saving to: ‘../data/artifacts/gg2.2022.10.taxonomy.asv.nwk.qza’\n",
      "\n",
      "../data/artifacts/g 100%[===================>] 184.70M  14.6MB/s    in 13s     \n",
      "\n",
      "2023-08-01 15:26:59 (14.5 MB/s) - ‘../data/artifacts/gg2.2022.10.taxonomy.asv.nwk.qza’ saved [193668351/193668351]\n",
      "\n"
     ]
    }
   ],
   "source": [
    "!wget -O ../data/artifacts/gg2.2022.10.taxonomy.asv.nwk.qza http://ftp.microbio.me/greengenes_release/2022.10/2022.10.taxonomy.asv.nwk.qza"
   ]
  },
  {
   "cell_type": "code",
   "execution_count": 15,
   "metadata": {},
   "outputs": [],
   "source": [
    "tax = greengenes2.methods.taxonomy_from_table(table = gg2_mapped.clustered_table,\n",
    "                                              reference_taxonomy = Artifact.load(path[\"art\"] + \"g2.2022.10.taxonomy.asv.nwk.qza\"))"
   ]
  },
  {
   "cell_type": "code",
   "execution_count": 19,
   "metadata": {},
   "outputs": [
    {
     "data": {
      "text/plain": [
       "'../data/artifacts/tax-gg2.qza'"
      ]
     },
     "execution_count": 19,
     "metadata": {},
     "output_type": "execute_result"
    }
   ],
   "source": [
    "tax.classification.save(path[\"art\"] + \"tax-gg2.qza\")"
   ]
  },
  {
   "cell_type": "code",
   "execution_count": 84,
   "metadata": {},
   "outputs": [
    {
     "data": {
      "text/plain": [
       "'../visualizations/gg2-barplot.qzv'"
      ]
     },
     "execution_count": 84,
     "metadata": {},
     "output_type": "execute_result"
    }
   ],
   "source": [
    "vis = taxa.visualizers.barplot(table=gg2_mapped.clustered_table,\n",
    "                               taxonomy=tax.classification)\n",
    "vis.visualization.save(path[\"vis\"] + \"gg2-barplot.qzv\")"
   ]
  },
  {
   "cell_type": "code",
   "execution_count": null,
   "metadata": {},
   "outputs": [],
   "source": []
  }
 ],
 "metadata": {
  "kernelspec": {
   "display_name": "qiime2-2023.2",
   "language": "python",
   "name": "python3"
  },
  "language_info": {
   "codemirror_mode": {
    "name": "ipython",
    "version": 3
   },
   "file_extension": ".py",
   "mimetype": "text/x-python",
   "name": "python",
   "nbconvert_exporter": "python",
   "pygments_lexer": "ipython3",
   "version": "3.8.15"
  },
  "orig_nbformat": 4
 },
 "nbformat": 4,
 "nbformat_minor": 2
}
