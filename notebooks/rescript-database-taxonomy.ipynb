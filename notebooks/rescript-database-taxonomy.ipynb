{
 "cells": [
  {
   "cell_type": "markdown",
   "metadata": {},
   "source": [
    "## SILVA + RESCRIPt\n",
    "\n",
    "We will create a database specifically tailored for classification of our sequences."
   ]
  },
  {
   "cell_type": "markdown",
   "metadata": {},
   "source": [
    "### Downloading data"
   ]
  },
  {
   "cell_type": "code",
   "execution_count": null,
   "metadata": {},
   "outputs": [
    {
     "name": "stdout",
     "output_type": "stream",
     "text": [
      "retrieving sequences from: https://www.arb-silva.de/fileadmin/silva_databases/release_138_1/Exports/SILVA_138.1_SSURef_NR99_tax_silva.fasta.gz\n",
      "retrieving taxonomy map from: https://www.arb-silva.de/fileadmin/silva_databases/release_138_1/Exports/taxonomy/taxmap_slv_ssu_ref_nr_138.1.txt.gz\n",
      "retrieving taxonomy tree from: https://www.arb-silva.de/fileadmin/silva_databases/release_138_1/Exports/taxonomy/tax_slv_ssu_138.1.tre.gz\n",
      "retrieving taxonomy ranks from: https://www.arb-silva.de/fileadmin/silva_databases/release_138_1/Exports/taxonomy/tax_slv_ssu_138.1.txt.gz\n"
     ]
    }
   ],
   "source": [
    "from rescript import get_data \n",
    "from qiime2.plugins import rescript, feature_classifier\n",
    "from qiime2 import Artifact\n",
    "\n",
    "version = \"138.1\"\n",
    "target = \"SSURef_NR99\"\n",
    "\n",
    "\n",
    "queries = get_data._assemble_silva_data_urls(version, target, download_sequences=True)\n",
    "results = get_data._retrieve_data_from_silva(queries)"
   ]
  },
  {
   "cell_type": "code",
   "execution_count": null,
   "metadata": {},
   "outputs": [],
   "source": [
    "tax = rescript.methods.parse_silva_taxonomy(results[\"taxonomy tree\"], results[\"taxonomy map\"], results[\"taxonomy ranks\"])"
   ]
  },
  {
   "cell_type": "code",
   "execution_count": null,
   "metadata": {},
   "outputs": [
    {
     "data": {
      "text/plain": [
       "'../data/artifacts/silva-taxonomy-ssu-nr99-138.1.qza'"
      ]
     },
     "metadata": {},
     "output_type": "display_data"
    }
   ],
   "source": [
    "tax.taxonomy.save(\"../data/artifacts/silva-taxonomy-ssu-nr99-138.1.qza\")"
   ]
  },
  {
   "cell_type": "markdown",
   "metadata": {},
   "source": [
    "The data exist within SILVA as RNA sequences, and thus have been imported as `FeatureData[RNASequence]`. To make sure things run smoothly downstream we'll convert the data to `FeatureData[DNASequence]`"
   ]
  },
  {
   "cell_type": "code",
   "execution_count": null,
   "metadata": {},
   "outputs": [],
   "source": [
    "seq_dna = rescript.methods.reverse_transcribe(results[\"sequences\"])"
   ]
  },
  {
   "cell_type": "markdown",
   "metadata": {},
   "source": [
    "### “Culling” low-quality sequences with cull-seqs\n",
    "Here we’ll remove sequences that contain 5 or more ambiguous bases (IUPAC compliant ambiguity bases) and any homopolymers that are 8 or more bases in length. "
   ]
  },
  {
   "cell_type": "code",
   "execution_count": null,
   "metadata": {},
   "outputs": [],
   "source": [
    "clean_seq_dna = rescript.methods.cull_seqs(seq_dna.dna_sequences)"
   ]
  },
  {
   "cell_type": "markdown",
   "metadata": {},
   "source": [
    "### Filtering sequences by length and taxonomy\n",
    "Rather than blindly filter all of the reference sequences below a certain length, we'll differentially filter based on the taxonomy of the reference sequence. The reason: if we decide to remove any sequences below 1000 or 1200 bp, then many of the reference sequences associated with Archaea (and some Bacteria) will be lost. This will potentially increase the retention of shorter and lower-quality Bacterial or Eukaryal sequences. Ultimately causing undue database selection bias. So, we'll attempt to mitigate these issues by differentially filtering based on length. We will remove rRNA gene sequences that do not meet the following criteria: Archaea (16S) >= 900 bp, Bacteria (16S) >= 1200 bp, and any Eukaryota (18S) >= 1400 bp. See help text for more info."
   ]
  },
  {
   "cell_type": "code",
   "execution_count": null,
   "metadata": {},
   "outputs": [],
   "source": [
    "filtered = rescript.methods.filter_seqs_length_by_taxon(\n",
    "    sequences = seq_dna.dna_sequences,\n",
    "    taxonomy = tax.taxonomy,\n",
    "    labels = [\"Archea\", \"Bacteria\", \"Eukaryota\"],\n",
    "    min_lens = [900, 1200, 1400]\n",
    ")"
   ]
  },
  {
   "cell_type": "markdown",
   "metadata": {},
   "source": [
    "### Dereplication\n",
    "Given the notes outlined for the SILVA 138.1 NR99 574 release, there may be identical full-length sequences with either identical or different taxonomies. We'll proceed to dereplicate this data before moving forward. This will help remove redundant sequence data from the database prior to downstream processing. RESCRIPt provide several options for sequence-taxonomy dereplication. Click on the triangle below for more information.\n",
    "\n",
    "**Dereplicating in uniq mode**\n",
    "Here we will use the default uniq approach. That is, we’ll retain identical sequence records that have differing taxonomies. We’ll specify the option here for the sake of clarity, but feel free to use any of the --p-mode options that make sense to you."
   ]
  },
  {
   "cell_type": "code",
   "execution_count": null,
   "metadata": {},
   "outputs": [
    {
     "name": "stdout",
     "output_type": "stream",
     "text": [
      "Running external command line application. This may print messages to stdout and/or stderr.\n",
      "The command being run is below. This command cannot be manually re-run as it will depend on temporary files that no longer exist.\n",
      "\n",
      "Command: vsearch --derep_fulllength /tmp/qiime2/vbezshapkin/data/63a60e39-5216-40f1-8772-a9a42d060d1d/data/dna-sequences.fasta --output /tmp/tmpkxlg__fe --uc /tmp/tmpgvbxtnss --xsize --threads 1\n",
      "\n"
     ]
    },
    {
     "name": "stderr",
     "output_type": "stream",
     "text": [
      "vsearch v2.22.1_linux_x86_64, 1007.1GB RAM, 144 cores\n",
      "https://github.com/torognes/vsearch\n",
      "\n",
      "Dereplicating file /tmp/qiime2/vbezshapkin/data/63a60e39-5216-40f1-8772-a9a42d060d1d/data/dna-sequences.fasta 100%\n",
      "740229621 nt in 505000 seqs, min 900, max 4000, avg 1466\n",
      "Sorting 100%\n",
      "462805 unique sequences, avg cluster 1.1, median 1, max 893\n",
      "Writing FASTA output file 100%\n",
      "Writing uc file, first part 100%\n",
      "Writing uc file, second part 100%\n",
      "/nfs/cds-peta/exports/biol_micro_cds_gr_sunagawa/scratch/vbezshapkin/conda-envs/qiime2-2023.2/lib/python3.8/site-packages/rescript/dereplicate.py:131: SettingWithCopyWarning: \n",
      "A value is trying to be set on a copy of a slice from a DataFrame.\n",
      "Try using .loc[row_indexer,col_indexer] = value instead\n",
      "\n",
      "See the caveats in the documentation: https://pandas.pydata.org/pandas-docs/stable/user_guide/indexing.html#returning-a-view-versus-a-copy\n",
      "  uc['Taxon'] = uc['seqID'].apply(lambda x: taxa.loc[x])\n",
      "/nfs/cds-peta/exports/biol_micro_cds_gr_sunagawa/scratch/vbezshapkin/conda-envs/qiime2-2023.2/lib/python3.8/site-packages/rescript/dereplicate.py:132: SettingWithCopyWarning: \n",
      "A value is trying to be set on a copy of a slice from a DataFrame.\n",
      "Try using .loc[row_indexer,col_indexer] = value instead\n",
      "\n",
      "See the caveats in the documentation: https://pandas.pydata.org/pandas-docs/stable/user_guide/indexing.html#returning-a-view-versus-a-copy\n",
      "  uc['centroidtaxa'] = uc['centroidID'].apply(lambda x: taxa.loc[x])\n"
     ]
    }
   ],
   "source": [
    "dereplicated = rescript.methods.dereplicate(sequences = filtered.filtered_seqs,\n",
    "                                            taxa = tax.taxonomy,\n",
    "                                            mode = \"uniq\")"
   ]
  },
  {
   "cell_type": "code",
   "execution_count": null,
   "metadata": {},
   "outputs": [
    {
     "data": {
      "text/plain": [
       "'../data/artifacts/tax-silva-138.1-ssu-nr99-filtered-derep.qza'"
      ]
     },
     "metadata": {},
     "output_type": "display_data"
    }
   ],
   "source": [
    "dereplicated.dereplicated_sequences.save(\"../data/artifacts/seqs-silva-138.1-ssu-nr99-filtered-derep.qza\")\n",
    "dereplicated.dereplicated_taxa.save(\"../data/artifacts/tax-silva-138.1-ssu-nr99-filtered-derep.qza\")"
   ]
  },
  {
   "cell_type": "code",
   "execution_count": null,
   "metadata": {},
   "outputs": [],
   "source": [
    "# SILVA seqs \n",
    "silva_seqs = Artifact.load(\"../data/artifacts/seqs-silva-138.1-ssu-nr99-filtered-derep.qza\")\n",
    "\n",
    "reads = feature_classifier.methods.extract_reads(\n",
    "    sequences = silva_seqs,\n",
    "    f_primer = \"CCTACGGGNGGCWGCAG\",\n",
    "    r_primer = \"GACTACHVGGGTATCTAATCC\",\n",
    "    n_jobs = 16,\n",
    "    read_orientation = \"forward\"\n",
    ")\n",
    "derep = rescript.methods.dereplicate(\n",
    "    sequences = reads.reads,\n",
    "    taxa = Artifact.load(path[\"art\"] + \"tax-silva-138.1-ssu-nr99-filtered-derep.qza\"),\n",
    "    mode = \"uniq\"\n",
    ")\n",
    "derep.dereplicated_sequences.save(path[\"art\"] + \"seqs-silva-138.1-ssu-nr99-filtered-derep-341f-806r.qza\")\n",
    "derep.dereplicated_taxa.save(path[\"art\"] + \"tax-silva-138.1-ssu-nr99-filtered-derep-341f-806r.qza\")"
   ]
  },
  {
   "cell_type": "code",
   "execution_count": null,
   "metadata": {},
   "outputs": [
    {
     "name": "stderr",
     "output_type": "stream",
     "text": [
      "/nfs/cds-peta/exports/biol_micro_cds_gr_sunagawa/scratch/vbezshapkin/conda-envs/qiime2-2023.2/lib/python3.8/site-packages/rescript/cross_validate.py:34: FutureWarning: Passing a set as an indexer is deprecated and will raise in a future version. Use a list instead.\n",
      "  taxa = taxa.loc[seq_ids]\n"
     ]
    },
    {
     "name": "stdout",
     "output_type": "stream",
     "text": [
      "Validation: 8.24s\n"
     ]
    },
    {
     "name": "stderr",
     "output_type": "stream",
     "text": [
      "/nfs/cds-peta/exports/biol_micro_cds_gr_sunagawa/scratch/vbezshapkin/conda-envs/qiime2-2023.2/lib/python3.8/site-packages/q2_feature_classifier/classifier.py:102: UserWarning: The TaxonomicClassifier artifact that results from this method was trained using scikit-learn version 0.24.1. It cannot be used with other versions of scikit-learn. (While the classifier may complete successfully, the results will be unreliable.)\n",
      "  warnings.warn(warning, UserWarning)\n"
     ]
    },
    {
     "name": "stdout",
     "output_type": "stream",
     "text": [
      "Training: 871.66s\n",
      "Classification: 1193.74s\n"
     ]
    },
    {
     "name": "stderr",
     "output_type": "stream",
     "text": [
      "/nfs/cds-peta/exports/biol_micro_cds_gr_sunagawa/scratch/vbezshapkin/conda-envs/qiime2-2023.2/lib/python3.8/site-packages/rescript/evaluate.py:79: UserWarning: The lists of input taxonomies and labels are different lengths. Additional taxonomies will be labeled numerically by their order in the inputs. Note that if these numbers match existing labels, those data will be grouped in the visualization.\n",
      "  warnings.warn(msg, UserWarning)\n"
     ]
    },
    {
     "name": "stdout",
     "output_type": "stream",
     "text": [
      "Evaluation: 6.70s\n",
      "Total Runtime: 2080.34s\n"
     ]
    }
   ],
   "source": [
    "classifier = rescript.pipelines.evaluate_fit_classifier(\n",
    "    sequences = derep.dereplicated_sequences,\n",
    "    taxonomy = derep.dereplicated_taxa,\n",
    "    n_jobs = 16\n",
    ")"
   ]
  },
  {
   "cell_type": "code",
   "execution_count": null,
   "metadata": {},
   "outputs": [
    {
     "data": {
      "text/plain": [
       "'../data/silva-138-341f-806r-taxonomy.qza'"
      ]
     },
     "metadata": {},
     "output_type": "display_data"
    }
   ],
   "source": [
    "classifier.classifier.save(\"../data/artifacts/classifier-silva-138.1-ssu-341f-806r.qza\")\n",
    "classifier.evaluation.save(\"../visualizations/eval-classifier-silva-138.1-ssu-341f-806r.qzv\")\n",
    "classifier.observed_taxonomy.save(\"../data/silva-138-341f-806r-taxonomy.qza\")"
   ]
  }
 ],
 "metadata": {
  "language_info": {
   "name": "python"
  },
  "orig_nbformat": 4
 },
 "nbformat": 4,
 "nbformat_minor": 2
}
